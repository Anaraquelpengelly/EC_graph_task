{
 "cells": [
  {
   "cell_type": "markdown",
   "metadata": {},
   "source": [
    "# 1-EDA"
   ]
  },
  {
   "cell_type": "code",
   "execution_count": 119,
   "metadata": {},
   "outputs": [],
   "source": [
    "import pandas as pd\n",
    "import numpy as np"
   ]
  },
  {
   "cell_type": "markdown",
   "metadata": {},
   "source": [
    "## Nodes"
   ]
  },
  {
   "cell_type": "code",
   "execution_count": 120,
   "metadata": {},
   "outputs": [
    {
     "data": {
      "text/html": [
       "<div>\n",
       "<style scoped>\n",
       "    .dataframe tbody tr th:only-of-type {\n",
       "        vertical-align: middle;\n",
       "    }\n",
       "\n",
       "    .dataframe tbody tr th {\n",
       "        vertical-align: top;\n",
       "    }\n",
       "\n",
       "    .dataframe thead th {\n",
       "        text-align: right;\n",
       "    }\n",
       "</style>\n",
       "<table border=\"1\" class=\"dataframe\">\n",
       "  <thead>\n",
       "    <tr style=\"text-align: right;\">\n",
       "      <th></th>\n",
       "      <th>Unnamed: 0</th>\n",
       "      <th>id</th>\n",
       "      <th>name</th>\n",
       "      <th>category</th>\n",
       "      <th>all_names</th>\n",
       "      <th>all_categories</th>\n",
       "      <th>iri</th>\n",
       "      <th>description</th>\n",
       "      <th>equivalent_curies</th>\n",
       "      <th>publications</th>\n",
       "      <th>label</th>\n",
       "    </tr>\n",
       "  </thead>\n",
       "  <tbody>\n",
       "    <tr>\n",
       "      <th>0</th>\n",
       "      <td>0</td>\n",
       "      <td>UniProtKB:P53805</td>\n",
       "      <td>RCAN1</td>\n",
       "      <td>biolink:Protein</td>\n",
       "      <td>RCAN1 GeneǂGenetic locus associated with RCAN1...</td>\n",
       "      <td>biolink:NucleicAcidEntityǂbiolink:Geneǂbiolink...</td>\n",
       "      <td>https://identifiers.org/uniprot:P53805</td>\n",
       "      <td>Calcipressin-1 (252 aa, ~28 kDa) is encoded by...</td>\n",
       "      <td>HGNC:3040ǂRGD:631338ǂNCIT:C82947ǂENSEMBL:ENSG0...</td>\n",
       "      <td>DOI:10.1042/bj20030267ǂPMID:12809556ǂDOI:10.10...</td>\n",
       "      <td>biolink:NucleicAcidEntityǂbiolink:MolecularEnt...</td>\n",
       "    </tr>\n",
       "    <tr>\n",
       "      <th>1</th>\n",
       "      <td>1</td>\n",
       "      <td>UniProtKB:Q4KWH8</td>\n",
       "      <td>PLCH1</td>\n",
       "      <td>biolink:Protein</td>\n",
       "      <td>1-phosphatidylinositol 4,5-bisphosphate phosph...</td>\n",
       "      <td>biolink:NucleicAcidEntityǂbiolink:Geneǂbiolink...</td>\n",
       "      <td>https://identifiers.org/uniprot:Q4KWH8</td>\n",
       "      <td>A protein that is a translation product of the...</td>\n",
       "      <td>NCBIGene:23007ǂMGI:2683547ǂPR:000012838ǂUMLS:C...</td>\n",
       "      <td>DOI:10.1042/bj20041677ǂDOI:10.1186/1471-2164-8...</td>\n",
       "      <td>biolink:NucleicAcidEntityǂbiolink:MolecularEnt...</td>\n",
       "    </tr>\n",
       "    <tr>\n",
       "      <th>2</th>\n",
       "      <td>2</td>\n",
       "      <td>UniProtKB:Q9UPU7</td>\n",
       "      <td>TBC1D2B</td>\n",
       "      <td>biolink:Protein</td>\n",
       "      <td>TBC1D2B (human)ǂGenetic locus associated with ...</td>\n",
       "      <td>biolink:NucleicAcidEntityǂbiolink:Geneǂbiolink...</td>\n",
       "      <td>https://identifiers.org/uniprot:Q9UPU7</td>\n",
       "      <td>A protein that is a translation product of the...</td>\n",
       "      <td>PR:Q9UPU7ǂENSEMBL:ENSG00000167202ǂMGI:1914266ǂ...</td>\n",
       "      <td>DOI:10.1126/scisignal.2000475ǂPMID:19690332ǂDO...</td>\n",
       "      <td>biolink:NucleicAcidEntityǂbiolink:MolecularEnt...</td>\n",
       "    </tr>\n",
       "    <tr>\n",
       "      <th>3</th>\n",
       "      <td>3</td>\n",
       "      <td>UniProtKB:P35462</td>\n",
       "      <td>DRD3</td>\n",
       "      <td>biolink:Protein</td>\n",
       "      <td>D(3) dopamine receptor (human)ǂDrd3 (rat)ǂD(3)...</td>\n",
       "      <td>biolink:NucleicAcidEntityǂbiolink:Geneǂbiolink...</td>\n",
       "      <td>https://identifiers.org/uniprot:P35462</td>\n",
       "      <td>A D(2)-like dopamine receptor that is a transl...</td>\n",
       "      <td>OMIM:126451ǂRGD:2521ǂMGI:94925ǂNCBIGene:1814ǂU...</td>\n",
       "      <td>PMID:16809426ǂPMID:16386234ǂPMID:7961889ǂ2-nǂ2...</td>\n",
       "      <td>biolink:NucleicAcidEntityǂbiolink:MolecularEnt...</td>\n",
       "    </tr>\n",
       "    <tr>\n",
       "      <th>4</th>\n",
       "      <td>4</td>\n",
       "      <td>UniProtKB:Q9UJY1</td>\n",
       "      <td>HSPB8</td>\n",
       "      <td>biolink:Protein</td>\n",
       "      <td>HSPB8ǂheat shock protein beta-8 (human)ǂHeat S...</td>\n",
       "      <td>biolink:NucleicAcidEntityǂbiolink:Geneǂbiolink...</td>\n",
       "      <td>https://identifiers.org/uniprot:Q9UJY1</td>\n",
       "      <td>Heat shock protein beta-8 (196 aa, ~22 kDa) is...</td>\n",
       "      <td>NCBIGene:26353ǂNCIT:C95433ǂUniProtKB:Q9UJY1ǂPR...</td>\n",
       "      <td>PMID:15122253ǂDOI:10.1016/j.bbamcr.2009.05.005...</td>\n",
       "      <td>biolink:NucleicAcidEntityǂbiolink:MolecularEnt...</td>\n",
       "    </tr>\n",
       "  </tbody>\n",
       "</table>\n",
       "</div>"
      ],
      "text/plain": [
       "   Unnamed: 0                id     name         category  \\\n",
       "0           0  UniProtKB:P53805    RCAN1  biolink:Protein   \n",
       "1           1  UniProtKB:Q4KWH8    PLCH1  biolink:Protein   \n",
       "2           2  UniProtKB:Q9UPU7  TBC1D2B  biolink:Protein   \n",
       "3           3  UniProtKB:P35462     DRD3  biolink:Protein   \n",
       "4           4  UniProtKB:Q9UJY1    HSPB8  biolink:Protein   \n",
       "\n",
       "                                           all_names  \\\n",
       "0  RCAN1 GeneǂGenetic locus associated with RCAN1...   \n",
       "1  1-phosphatidylinositol 4,5-bisphosphate phosph...   \n",
       "2  TBC1D2B (human)ǂGenetic locus associated with ...   \n",
       "3  D(3) dopamine receptor (human)ǂDrd3 (rat)ǂD(3)...   \n",
       "4  HSPB8ǂheat shock protein beta-8 (human)ǂHeat S...   \n",
       "\n",
       "                                      all_categories  \\\n",
       "0  biolink:NucleicAcidEntityǂbiolink:Geneǂbiolink...   \n",
       "1  biolink:NucleicAcidEntityǂbiolink:Geneǂbiolink...   \n",
       "2  biolink:NucleicAcidEntityǂbiolink:Geneǂbiolink...   \n",
       "3  biolink:NucleicAcidEntityǂbiolink:Geneǂbiolink...   \n",
       "4  biolink:NucleicAcidEntityǂbiolink:Geneǂbiolink...   \n",
       "\n",
       "                                      iri  \\\n",
       "0  https://identifiers.org/uniprot:P53805   \n",
       "1  https://identifiers.org/uniprot:Q4KWH8   \n",
       "2  https://identifiers.org/uniprot:Q9UPU7   \n",
       "3  https://identifiers.org/uniprot:P35462   \n",
       "4  https://identifiers.org/uniprot:Q9UJY1   \n",
       "\n",
       "                                         description  \\\n",
       "0  Calcipressin-1 (252 aa, ~28 kDa) is encoded by...   \n",
       "1  A protein that is a translation product of the...   \n",
       "2  A protein that is a translation product of the...   \n",
       "3  A D(2)-like dopamine receptor that is a transl...   \n",
       "4  Heat shock protein beta-8 (196 aa, ~22 kDa) is...   \n",
       "\n",
       "                                   equivalent_curies  \\\n",
       "0  HGNC:3040ǂRGD:631338ǂNCIT:C82947ǂENSEMBL:ENSG0...   \n",
       "1  NCBIGene:23007ǂMGI:2683547ǂPR:000012838ǂUMLS:C...   \n",
       "2  PR:Q9UPU7ǂENSEMBL:ENSG00000167202ǂMGI:1914266ǂ...   \n",
       "3  OMIM:126451ǂRGD:2521ǂMGI:94925ǂNCBIGene:1814ǂU...   \n",
       "4  NCBIGene:26353ǂNCIT:C95433ǂUniProtKB:Q9UJY1ǂPR...   \n",
       "\n",
       "                                        publications  \\\n",
       "0  DOI:10.1042/bj20030267ǂPMID:12809556ǂDOI:10.10...   \n",
       "1  DOI:10.1042/bj20041677ǂDOI:10.1186/1471-2164-8...   \n",
       "2  DOI:10.1126/scisignal.2000475ǂPMID:19690332ǂDO...   \n",
       "3  PMID:16809426ǂPMID:16386234ǂPMID:7961889ǂ2-nǂ2...   \n",
       "4  PMID:15122253ǂDOI:10.1016/j.bbamcr.2009.05.005...   \n",
       "\n",
       "                                               label  \n",
       "0  biolink:NucleicAcidEntityǂbiolink:MolecularEnt...  \n",
       "1  biolink:NucleicAcidEntityǂbiolink:MolecularEnt...  \n",
       "2  biolink:NucleicAcidEntityǂbiolink:MolecularEnt...  \n",
       "3  biolink:NucleicAcidEntityǂbiolink:MolecularEnt...  \n",
       "4  biolink:NucleicAcidEntityǂbiolink:MolecularEnt...  "
      ]
     },
     "execution_count": 120,
     "metadata": {},
     "output_type": "execute_result"
    }
   ],
   "source": [
    "nodes = pd.read_csv(\"Nodes.csv\")\n",
    "nodes.head()"
   ]
  },
  {
   "cell_type": "code",
   "execution_count": 121,
   "metadata": {},
   "outputs": [],
   "source": [
    "#lets drop duplicates\n",
    "nodes.drop_duplicates(inplace=True)"
   ]
  },
  {
   "cell_type": "code",
   "execution_count": 122,
   "metadata": {},
   "outputs": [
    {
     "data": {
      "text/plain": [
       "category\n",
       "biolink:Pathway                        37593\n",
       "biolink:OrganismTaxon                  26575\n",
       "biolink:Protein                        17112\n",
       "biolink:MolecularActivity              15765\n",
       "biolink:Transcript                     14639\n",
       "biolink:SmallMolecule                  13805\n",
       "biolink:Disease                         8539\n",
       "biolink:Drug                            7610\n",
       "biolink:AnatomicalEntity                6477\n",
       "biolink:MolecularEntity                 6035\n",
       "biolink:ChemicalEntity                  3646\n",
       "biolink:Gene                            3469\n",
       "biolink:PhysiologicalProcess            2777\n",
       "biolink:Polypeptide                     1177\n",
       "biolink:DiseaseOrPhenotypicFeature      1083\n",
       "biolink:BiologicalEntity                 739\n",
       "biolink:NucleicAcidEntity                738\n",
       "biolink:CellularComponent                587\n",
       "biolink:GrossAnatomicalStructure         549\n",
       "biolink:Cell                             313\n",
       "biolink:BiologicalProcess                292\n",
       "biolink:PhenotypicFeature                193\n",
       "biolink:Behavior                         101\n",
       "biolink:Food                              78\n",
       "biolink:GeneFamily                        66\n",
       "biolink:CellLine                          17\n",
       "biolink:RNAProduct                        16\n",
       "biolink:BehavioralFeature                  6\n",
       "biolink:BiologicalProcessOrActivity        5\n",
       "biolink:ChemicalMixture                    3\n",
       "biolink:Vitamin                            2\n",
       "biolink:NoncodingRNAProduct                2\n",
       "Name: count, dtype: int64"
      ]
     },
     "execution_count": 122,
     "metadata": {},
     "output_type": "execute_result"
    }
   ],
   "source": [
    "#what node categories do we have?\n",
    "\n",
    "nodes['category'].value_counts()"
   ]
  },
  {
   "cell_type": "code",
   "execution_count": 123,
   "metadata": {},
   "outputs": [
    {
     "data": {
      "text/plain": [
       "Unnamed: 0                0\n",
       "id                        0\n",
       "name                  12474\n",
       "category                  0\n",
       "all_names             12426\n",
       "all_categories            0\n",
       "iri                       0\n",
       "description           32212\n",
       "equivalent_curies         0\n",
       "publications         106566\n",
       "label                     0\n",
       "dtype: int64"
      ]
     },
     "execution_count": 123,
     "metadata": {},
     "output_type": "execute_result"
    }
   ],
   "source": [
    "# Are there any null values?\n",
    "nodes.isnull().sum()"
   ]
  },
  {
   "cell_type": "code",
   "execution_count": 124,
   "metadata": {},
   "outputs": [
    {
     "data": {
      "text/html": [
       "<div>\n",
       "<style scoped>\n",
       "    .dataframe tbody tr th:only-of-type {\n",
       "        vertical-align: middle;\n",
       "    }\n",
       "\n",
       "    .dataframe tbody tr th {\n",
       "        vertical-align: top;\n",
       "    }\n",
       "\n",
       "    .dataframe thead th {\n",
       "        text-align: right;\n",
       "    }\n",
       "</style>\n",
       "<table border=\"1\" class=\"dataframe\">\n",
       "  <thead>\n",
       "    <tr style=\"text-align: right;\">\n",
       "      <th></th>\n",
       "      <th>Unnamed: 0</th>\n",
       "      <th>id</th>\n",
       "      <th>name</th>\n",
       "      <th>category</th>\n",
       "      <th>all_names</th>\n",
       "      <th>all_categories</th>\n",
       "      <th>iri</th>\n",
       "      <th>description</th>\n",
       "      <th>equivalent_curies</th>\n",
       "      <th>publications</th>\n",
       "      <th>label</th>\n",
       "    </tr>\n",
       "  </thead>\n",
       "  <tbody>\n",
       "    <tr>\n",
       "      <th>85022</th>\n",
       "      <td>85022</td>\n",
       "      <td>CHEMBL.COMPOUND:CHEMBL3527184</td>\n",
       "      <td>NaN</td>\n",
       "      <td>biolink:SmallMolecule</td>\n",
       "      <td>NaN</td>\n",
       "      <td>biolink:SmallMolecule</td>\n",
       "      <td>https://identifiers.org/chembl.compound:CHEMBL...</td>\n",
       "      <td>NA; MAX_FDA_APPROVAL_PHASE: 0</td>\n",
       "      <td>CHEMBL.COMPOUND:CHEMBL3527184</td>\n",
       "      <td>PMID:22180047</td>\n",
       "      <td>biolink:ChemicalEntityǂbiolink:MolecularEntity...</td>\n",
       "    </tr>\n",
       "  </tbody>\n",
       "</table>\n",
       "</div>"
      ],
      "text/plain": [
       "       Unnamed: 0                             id name               category  \\\n",
       "85022       85022  CHEMBL.COMPOUND:CHEMBL3527184  NaN  biolink:SmallMolecule   \n",
       "\n",
       "      all_names         all_categories  \\\n",
       "85022       NaN  biolink:SmallMolecule   \n",
       "\n",
       "                                                     iri  \\\n",
       "85022  https://identifiers.org/chembl.compound:CHEMBL...   \n",
       "\n",
       "                         description              equivalent_curies  \\\n",
       "85022  NA; MAX_FDA_APPROVAL_PHASE: 0  CHEMBL.COMPOUND:CHEMBL3527184   \n",
       "\n",
       "        publications                                              label  \n",
       "85022  PMID:22180047  biolink:ChemicalEntityǂbiolink:MolecularEntity...  "
      ]
     },
     "execution_count": 124,
     "metadata": {},
     "output_type": "execute_result"
    }
   ],
   "source": [
    "#do some nodes have a description but not a name?\n",
    "\n",
    "nodes[(nodes['all_names'].isnull()) & (~nodes['description'].isnull())]"
   ]
  },
  {
   "cell_type": "code",
   "execution_count": 125,
   "metadata": {},
   "outputs": [],
   "source": [
    "#we fill the NAs with \"null\" in case we wanted to generate embeddings \n",
    "nodes= nodes.fillna(\"null\")"
   ]
  },
  {
   "cell_type": "code",
   "execution_count": 126,
   "metadata": {},
   "outputs": [
    {
     "data": {
      "text/plain": [
       "Index(['Unnamed: 0', 'id', 'name', 'category', 'all_names', 'all_categories',\n",
       "       'iri', 'description', 'equivalent_curies', 'publications', 'label'],\n",
       "      dtype='object')"
      ]
     },
     "execution_count": 126,
     "metadata": {},
     "output_type": "execute_result"
    }
   ],
   "source": [
    "nodes.columns"
   ]
  },
  {
   "cell_type": "code",
   "execution_count": 127,
   "metadata": {},
   "outputs": [],
   "source": [
    "#we select the drugs and diseases for a little investigation\n",
    "drugs = ['Drug', 'SmallMolecule', 'ChemicalEntity', 'ChemicalMixture']\n",
    "diseases = ['DiseaseOrPhenotypicFeature',\n",
    "            'PhenotypicFeature',]\n",
    "nodes['category'] = nodes.category.apply(lambda x: x.replace(\"biolink:\", \"\"))\n",
    "\n",
    "drug_nodes = nodes[(nodes[\"category\"].isin(drugs))]\n",
    "disease_nodes=nodes[(nodes[\"category\"].isin(diseases))]"
   ]
  },
  {
   "cell_type": "code",
   "execution_count": 128,
   "metadata": {},
   "outputs": [
    {
     "name": "stdout",
     "output_type": "stream",
     "text": [
      "25064 1276\n"
     ]
    }
   ],
   "source": [
    "print(len(drug_nodes), len(disease_nodes))"
   ]
  },
  {
   "cell_type": "code",
   "execution_count": 129,
   "metadata": {},
   "outputs": [],
   "source": [
    "#we keep only the \"all_categories\" column as more informative.\n",
    "\n",
    "nodes = nodes[['id', \n",
    "            #    'name', \n",
    "            #    'category', \n",
    "               'all_names', \n",
    "               'all_categories',\n",
    "            #    'iri', \n",
    "               'description',\n",
    "            #    'equivalent_curies',\n",
    "            #    'publications',\n",
    "            #    'label',\n",
    "               ]]"
   ]
  },
  {
   "cell_type": "code",
   "execution_count": 130,
   "metadata": {},
   "outputs": [],
   "source": [
    "#lets remove the \"biolink\" from the categories.\n",
    "nodes[\"all_categories\"] = nodes.all_categories.apply(lambda x: x.replace(\"biolink:\", \"\"))"
   ]
  },
  {
   "cell_type": "code",
   "execution_count": 131,
   "metadata": {},
   "outputs": [
    {
     "data": {
      "text/plain": [
       "170009"
      ]
     },
     "execution_count": 131,
     "metadata": {},
     "output_type": "execute_result"
    }
   ],
   "source": [
    "#how many unique nodes do we have?\n",
    "num_n = len(nodes.id.unique())\n",
    "num_n"
   ]
  },
  {
   "cell_type": "markdown",
   "metadata": {},
   "source": [
    "## Edges"
   ]
  },
  {
   "cell_type": "code",
   "execution_count": 132,
   "metadata": {},
   "outputs": [
    {
     "data": {
      "text/html": [
       "<div>\n",
       "<style scoped>\n",
       "    .dataframe tbody tr th:only-of-type {\n",
       "        vertical-align: middle;\n",
       "    }\n",
       "\n",
       "    .dataframe tbody tr th {\n",
       "        vertical-align: top;\n",
       "    }\n",
       "\n",
       "    .dataframe thead th {\n",
       "        text-align: right;\n",
       "    }\n",
       "</style>\n",
       "<table border=\"1\" class=\"dataframe\">\n",
       "  <thead>\n",
       "    <tr style=\"text-align: right;\">\n",
       "      <th></th>\n",
       "      <th>Unnamed: 0</th>\n",
       "      <th>subject</th>\n",
       "      <th>object</th>\n",
       "      <th>predicate</th>\n",
       "      <th>knowledge_source</th>\n",
       "      <th>publications</th>\n",
       "      <th>publications_info</th>\n",
       "      <th>type</th>\n",
       "      <th>start_id</th>\n",
       "      <th>end_id</th>\n",
       "    </tr>\n",
       "  </thead>\n",
       "  <tbody>\n",
       "    <tr>\n",
       "      <th>0</th>\n",
       "      <td>0</td>\n",
       "      <td>NCBIGene:8483</td>\n",
       "      <td>FMA:70022</td>\n",
       "      <td>biolink:related_to</td>\n",
       "      <td>infores:ensembl-gene</td>\n",
       "      <td>NaN</td>\n",
       "      <td>{}</td>\n",
       "      <td>biolink:related_to</td>\n",
       "      <td>NCBIGene:8483</td>\n",
       "      <td>FMA:70022</td>\n",
       "    </tr>\n",
       "    <tr>\n",
       "      <th>1</th>\n",
       "      <td>1</td>\n",
       "      <td>NCBIGene:390650</td>\n",
       "      <td>CHEMBL.TARGET:CHEMBL372</td>\n",
       "      <td>biolink:in_taxon</td>\n",
       "      <td>infores:ncbi-geneǂinfores:ensembl-gene</td>\n",
       "      <td>NaN</td>\n",
       "      <td>{}</td>\n",
       "      <td>biolink:in_taxon</td>\n",
       "      <td>NCBIGene:390650</td>\n",
       "      <td>CHEMBL.TARGET:CHEMBL372</td>\n",
       "    </tr>\n",
       "    <tr>\n",
       "      <th>2</th>\n",
       "      <td>2</td>\n",
       "      <td>UMLS:C1158823</td>\n",
       "      <td>ENSEMBL:ENST00000485267</td>\n",
       "      <td>biolink:has_participant</td>\n",
       "      <td>infores:ensembl-gene</td>\n",
       "      <td>NaN</td>\n",
       "      <td>{}</td>\n",
       "      <td>biolink:has_participant</td>\n",
       "      <td>UMLS:C1158823</td>\n",
       "      <td>ENSEMBL:ENST00000485267</td>\n",
       "    </tr>\n",
       "    <tr>\n",
       "      <th>3</th>\n",
       "      <td>3</td>\n",
       "      <td>ENSEMBL:ENST00000464141</td>\n",
       "      <td>CHEMBL.TARGET:CHEMBL372</td>\n",
       "      <td>biolink:in_taxon</td>\n",
       "      <td>infores:ensembl-gene</td>\n",
       "      <td>NaN</td>\n",
       "      <td>{}</td>\n",
       "      <td>biolink:in_taxon</td>\n",
       "      <td>ENSEMBL:ENST00000464141</td>\n",
       "      <td>CHEMBL.TARGET:CHEMBL372</td>\n",
       "    </tr>\n",
       "    <tr>\n",
       "      <th>4</th>\n",
       "      <td>4</td>\n",
       "      <td>ENSEMBL:ENST00000556723</td>\n",
       "      <td>UniProtKB:Q9H0R1</td>\n",
       "      <td>biolink:transcribed_from</td>\n",
       "      <td>infores:ensembl-gene</td>\n",
       "      <td>NaN</td>\n",
       "      <td>{}</td>\n",
       "      <td>biolink:transcribed_from</td>\n",
       "      <td>ENSEMBL:ENST00000556723</td>\n",
       "      <td>UniProtKB:Q9H0R1</td>\n",
       "    </tr>\n",
       "  </tbody>\n",
       "</table>\n",
       "</div>"
      ],
      "text/plain": [
       "   Unnamed: 0                  subject                   object  \\\n",
       "0           0            NCBIGene:8483                FMA:70022   \n",
       "1           1          NCBIGene:390650  CHEMBL.TARGET:CHEMBL372   \n",
       "2           2            UMLS:C1158823  ENSEMBL:ENST00000485267   \n",
       "3           3  ENSEMBL:ENST00000464141  CHEMBL.TARGET:CHEMBL372   \n",
       "4           4  ENSEMBL:ENST00000556723         UniProtKB:Q9H0R1   \n",
       "\n",
       "                  predicate                        knowledge_source  \\\n",
       "0        biolink:related_to                    infores:ensembl-gene   \n",
       "1          biolink:in_taxon  infores:ncbi-geneǂinfores:ensembl-gene   \n",
       "2   biolink:has_participant                    infores:ensembl-gene   \n",
       "3          biolink:in_taxon                    infores:ensembl-gene   \n",
       "4  biolink:transcribed_from                    infores:ensembl-gene   \n",
       "\n",
       "  publications publications_info                      type  \\\n",
       "0          NaN                {}        biolink:related_to   \n",
       "1          NaN                {}          biolink:in_taxon   \n",
       "2          NaN                {}   biolink:has_participant   \n",
       "3          NaN                {}          biolink:in_taxon   \n",
       "4          NaN                {}  biolink:transcribed_from   \n",
       "\n",
       "                  start_id                   end_id  \n",
       "0            NCBIGene:8483                FMA:70022  \n",
       "1          NCBIGene:390650  CHEMBL.TARGET:CHEMBL372  \n",
       "2            UMLS:C1158823  ENSEMBL:ENST00000485267  \n",
       "3  ENSEMBL:ENST00000464141  CHEMBL.TARGET:CHEMBL372  \n",
       "4  ENSEMBL:ENST00000556723         UniProtKB:Q9H0R1  "
      ]
     },
     "execution_count": 132,
     "metadata": {},
     "output_type": "execute_result"
    }
   ],
   "source": [
    "edges = pd.read_csv(\"Edges.csv\")\n",
    "edges.head()"
   ]
  },
  {
   "cell_type": "code",
   "execution_count": 133,
   "metadata": {},
   "outputs": [
    {
     "data": {
      "text/plain": [
       "Unnamed: 0                0\n",
       "subject                   0\n",
       "object                    0\n",
       "predicate                 0\n",
       "knowledge_source          0\n",
       "publications         165722\n",
       "publications_info         0\n",
       "type                      1\n",
       "start_id                  1\n",
       "end_id                    1\n",
       "dtype: int64"
      ]
     },
     "execution_count": 133,
     "metadata": {},
     "output_type": "execute_result"
    }
   ],
   "source": [
    "#lets look at the missing edges:\n",
    "edges.isnull().sum()"
   ]
  },
  {
   "cell_type": "code",
   "execution_count": 134,
   "metadata": {},
   "outputs": [],
   "source": [
    "#as there are many publications missing we will not select that column as an edge attribute\n",
    "edges = edges[['subject', \n",
    "               'object', \n",
    "               'predicate',\n",
    "            #    'knowledge_source',\n",
    "               # 'publications', #### to include?\n",
    "               # 'publications_info', we won't include for simplicity (text could be included at a later stage)\n",
    "               ]]"
   ]
  },
  {
   "cell_type": "code",
   "execution_count": 135,
   "metadata": {},
   "outputs": [],
   "source": [
    "#we can remove the :biolink form the predicate\n",
    "edges[\"predicate\"] = edges.predicate.apply(lambda x: x.replace(\"biolink:\", \"\"))"
   ]
  },
  {
   "cell_type": "code",
   "execution_count": 136,
   "metadata": {},
   "outputs": [
    {
     "data": {
      "text/plain": [
       "predicate\n",
       "has_participant                         38019\n",
       "occurs_in                               30686\n",
       "subclass_of                             29961\n",
       "physically_interacts_with               26575\n",
       "related_to                              15373\n",
       "gene_associated_with_condition           8380\n",
       "in_taxon                                 5929\n",
       "has_part                                 4109\n",
       "has_output                               3781\n",
       "has_input                                3720\n",
       "transcribed_from                         2565\n",
       "located_in                               2381\n",
       "close_match                              2129\n",
       "interacts_with                           1323\n",
       "affects                                  1216\n",
       "coexists_with                             996\n",
       "gene_product_of                           908\n",
       "enables                                   741\n",
       "treats                                    495\n",
       "translates_to                             485\n",
       "causes                                    457\n",
       "biomarker_for                             414\n",
       "chemically_similar_to                     366\n",
       "entity_positively_regulates_entity        245\n",
       "has_phenotype                             209\n",
       "colocalizes_with                          202\n",
       "entity_negatively_regulates_entity        198\n",
       "derives_from                              197\n",
       "actively_involved_in                      193\n",
       "contraindicated_for                       181\n",
       "manifestation_of                          164\n",
       "decreases_activity_of                     128\n",
       "directly_interacts_with                   107\n",
       "catalyzes                                 104\n",
       "same_as                                    78\n",
       "expressed_in                               76\n",
       "produces                                   70\n",
       "disrupts                                   58\n",
       "overlaps                                   51\n",
       "increases_activity_of                      51\n",
       "capable_of                                 47\n",
       "lacks_part                                 45\n",
       "develops_from                              43\n",
       "entity_regulates_entity                    39\n",
       "predisposes                                36\n",
       "process_regulates_process                  36\n",
       "contributes_to                             34\n",
       "prevents                                   30\n",
       "process_negatively_regulates_process       28\n",
       "correlated_with                            23\n",
       "is_sequence_variant_of                     20\n",
       "process_positively_regulates_process       19\n",
       "precedes                                   13\n",
       "affects_transport_of                       12\n",
       "has_metabolite                              6\n",
       "affects_activity_of                         3\n",
       "increases_metabolic_processing_of           3\n",
       "molecularly_interacts_with                  1\n",
       "temporally_related_to                       1\n",
       "Name: count, dtype: int64"
      ]
     },
     "execution_count": 136,
     "metadata": {},
     "output_type": "execute_result"
    }
   ],
   "source": [
    "#lets look at what predicates are in the edges:\n",
    "edges[\"predicate\"].value_counts()"
   ]
  },
  {
   "cell_type": "code",
   "execution_count": 137,
   "metadata": {},
   "outputs": [
    {
     "data": {
      "text/html": [
       "<div>\n",
       "<style scoped>\n",
       "    .dataframe tbody tr th:only-of-type {\n",
       "        vertical-align: middle;\n",
       "    }\n",
       "\n",
       "    .dataframe tbody tr th {\n",
       "        vertical-align: top;\n",
       "    }\n",
       "\n",
       "    .dataframe thead th {\n",
       "        text-align: right;\n",
       "    }\n",
       "</style>\n",
       "<table border=\"1\" class=\"dataframe\">\n",
       "  <thead>\n",
       "    <tr style=\"text-align: right;\">\n",
       "      <th></th>\n",
       "      <th>subject</th>\n",
       "      <th>object</th>\n",
       "      <th>predicate</th>\n",
       "    </tr>\n",
       "  </thead>\n",
       "  <tbody>\n",
       "    <tr>\n",
       "      <th>895</th>\n",
       "      <td>CHEMBL.COMPOUND:CHEMBL1531</td>\n",
       "      <td>MONDO:0010811</td>\n",
       "      <td>treats</td>\n",
       "    </tr>\n",
       "    <tr>\n",
       "      <th>896</th>\n",
       "      <td>CHEMBL.COMPOUND:CHEMBL1201823</td>\n",
       "      <td>MONDO:0005306</td>\n",
       "      <td>treats</td>\n",
       "    </tr>\n",
       "    <tr>\n",
       "      <th>897</th>\n",
       "      <td>CHEMBL.COMPOUND:CHEMBL1201439</td>\n",
       "      <td>MONDO:0005070</td>\n",
       "      <td>treats</td>\n",
       "    </tr>\n",
       "    <tr>\n",
       "      <th>898</th>\n",
       "      <td>CHEMBL.COMPOUND:CHEMBL2108738</td>\n",
       "      <td>MONDO:0011508</td>\n",
       "      <td>treats</td>\n",
       "    </tr>\n",
       "    <tr>\n",
       "      <th>899</th>\n",
       "      <td>CHEMBL.COMPOUND:CHEMBL3137343</td>\n",
       "      <td>MONDO:0021040</td>\n",
       "      <td>treats</td>\n",
       "    </tr>\n",
       "    <tr>\n",
       "      <th>...</th>\n",
       "      <td>...</td>\n",
       "      <td>...</td>\n",
       "      <td>...</td>\n",
       "    </tr>\n",
       "    <tr>\n",
       "      <th>165231</th>\n",
       "      <td>CHEMBL.COMPOUND:CHEMBL1404</td>\n",
       "      <td>MONDO:0002442</td>\n",
       "      <td>treats</td>\n",
       "    </tr>\n",
       "    <tr>\n",
       "      <th>165233</th>\n",
       "      <td>CHEMBL.COMPOUND:CHEMBL3822934</td>\n",
       "      <td>MONDO:0008315</td>\n",
       "      <td>treats</td>\n",
       "    </tr>\n",
       "    <tr>\n",
       "      <th>165235</th>\n",
       "      <td>CHEMBL.COMPOUND:CHEMBL191083</td>\n",
       "      <td>MONDO:0021178</td>\n",
       "      <td>treats</td>\n",
       "    </tr>\n",
       "    <tr>\n",
       "      <th>165243</th>\n",
       "      <td>CHEMBL.COMPOUND:CHEMBL1621</td>\n",
       "      <td>MONDO:0005258</td>\n",
       "      <td>treats</td>\n",
       "    </tr>\n",
       "    <tr>\n",
       "      <th>165253</th>\n",
       "      <td>FMA:82768</td>\n",
       "      <td>MONDO:0018958</td>\n",
       "      <td>treats</td>\n",
       "    </tr>\n",
       "  </tbody>\n",
       "</table>\n",
       "<p>495 rows × 3 columns</p>\n",
       "</div>"
      ],
      "text/plain": [
       "                              subject         object predicate\n",
       "895        CHEMBL.COMPOUND:CHEMBL1531  MONDO:0010811    treats\n",
       "896     CHEMBL.COMPOUND:CHEMBL1201823  MONDO:0005306    treats\n",
       "897     CHEMBL.COMPOUND:CHEMBL1201439  MONDO:0005070    treats\n",
       "898     CHEMBL.COMPOUND:CHEMBL2108738  MONDO:0011508    treats\n",
       "899     CHEMBL.COMPOUND:CHEMBL3137343  MONDO:0021040    treats\n",
       "...                               ...            ...       ...\n",
       "165231     CHEMBL.COMPOUND:CHEMBL1404  MONDO:0002442    treats\n",
       "165233  CHEMBL.COMPOUND:CHEMBL3822934  MONDO:0008315    treats\n",
       "165235   CHEMBL.COMPOUND:CHEMBL191083  MONDO:0021178    treats\n",
       "165243     CHEMBL.COMPOUND:CHEMBL1621  MONDO:0005258    treats\n",
       "165253                      FMA:82768  MONDO:0018958    treats\n",
       "\n",
       "[495 rows x 3 columns]"
      ]
     },
     "execution_count": 137,
     "metadata": {},
     "output_type": "execute_result"
    }
   ],
   "source": [
    "#we look at the \"treats\", \"interacts with\", \"affects\", \"prevents\", \"disrupts\", \"contraindicated_for\", \"entity_negatively_regulates_entity\", \"has_input\", \"has_participant\" edges:\n",
    "edges[edges['predicate'] == \"treats\"]"
   ]
  },
  {
   "cell_type": "code",
   "execution_count": 138,
   "metadata": {},
   "outputs": [
    {
     "data": {
      "text/plain": [
       "170068"
      ]
     },
     "execution_count": 138,
     "metadata": {},
     "output_type": "execute_result"
    }
   ],
   "source": [
    "num_e = len(np.unique(edges.values))\n",
    "num_e"
   ]
  },
  {
   "cell_type": "code",
   "execution_count": 139,
   "metadata": {},
   "outputs": [],
   "source": [
    "#now lets have a look if we have any drug-disease edges in the graph:\n",
    "\n",
    "drug_disease_edges = edges[(edges['subject'].isin(drug_nodes.id.values)) & (edges['object'].isin(disease_nodes.id.values))]\n",
    "drug_disease_edges_rev = edges[(edges['subject'].isin(disease_nodes.id.values)) & (edges['object'].isin(drug_nodes.id.values))]"
   ]
  },
  {
   "cell_type": "code",
   "execution_count": 140,
   "metadata": {},
   "outputs": [
    {
     "data": {
      "text/html": [
       "<div>\n",
       "<style scoped>\n",
       "    .dataframe tbody tr th:only-of-type {\n",
       "        vertical-align: middle;\n",
       "    }\n",
       "\n",
       "    .dataframe tbody tr th {\n",
       "        vertical-align: top;\n",
       "    }\n",
       "\n",
       "    .dataframe thead th {\n",
       "        text-align: right;\n",
       "    }\n",
       "</style>\n",
       "<table border=\"1\" class=\"dataframe\">\n",
       "  <thead>\n",
       "    <tr style=\"text-align: right;\">\n",
       "      <th></th>\n",
       "      <th>subject</th>\n",
       "      <th>object</th>\n",
       "      <th>predicate</th>\n",
       "    </tr>\n",
       "  </thead>\n",
       "  <tbody>\n",
       "    <tr>\n",
       "      <th>1960</th>\n",
       "      <td>CHEMBL.COMPOUND:CHEMBL1200339</td>\n",
       "      <td>MESH:D011538</td>\n",
       "      <td>treats</td>\n",
       "    </tr>\n",
       "    <tr>\n",
       "      <th>1963</th>\n",
       "      <td>CHEMBL.COMPOUND:CHEMBL1201360</td>\n",
       "      <td>UMLS:C0033777</td>\n",
       "      <td>treats</td>\n",
       "    </tr>\n",
       "    <tr>\n",
       "      <th>1970</th>\n",
       "      <td>CHEMBL.COMPOUND:CHEMBL470670</td>\n",
       "      <td>UMLS:C0152030</td>\n",
       "      <td>treats</td>\n",
       "    </tr>\n",
       "    <tr>\n",
       "      <th>87668</th>\n",
       "      <td>CHEMBL.TARGET:CHEMBL2363058</td>\n",
       "      <td>MONDO:0007462</td>\n",
       "      <td>related_to</td>\n",
       "    </tr>\n",
       "    <tr>\n",
       "      <th>89244</th>\n",
       "      <td>CHEMBL.COMPOUND:CHEMBL278958</td>\n",
       "      <td>MONDO:0008930</td>\n",
       "      <td>related_to</td>\n",
       "    </tr>\n",
       "    <tr>\n",
       "      <th>99388</th>\n",
       "      <td>MESH:D009108</td>\n",
       "      <td>UMLS:C0700172</td>\n",
       "      <td>related_to</td>\n",
       "    </tr>\n",
       "    <tr>\n",
       "      <th>99415</th>\n",
       "      <td>CHEBI:37527</td>\n",
       "      <td>UMLS:C0847097</td>\n",
       "      <td>related_to</td>\n",
       "    </tr>\n",
       "    <tr>\n",
       "      <th>100379</th>\n",
       "      <td>UMLS:C0008038</td>\n",
       "      <td>MONDO:0008575</td>\n",
       "      <td>related_to</td>\n",
       "    </tr>\n",
       "    <tr>\n",
       "      <th>100651</th>\n",
       "      <td>CHEMBL.COMPOUND:CHEMBL2108512</td>\n",
       "      <td>UMLS:C0552474</td>\n",
       "      <td>related_to</td>\n",
       "    </tr>\n",
       "    <tr>\n",
       "      <th>100730</th>\n",
       "      <td>RXNORM:794207</td>\n",
       "      <td>UMLS:C1608322</td>\n",
       "      <td>treats</td>\n",
       "    </tr>\n",
       "    <tr>\n",
       "      <th>102557</th>\n",
       "      <td>CHEMBL.COMPOUND:CHEMBL364797</td>\n",
       "      <td>UMLS:C4016245</td>\n",
       "      <td>close_match</td>\n",
       "    </tr>\n",
       "    <tr>\n",
       "      <th>102564</th>\n",
       "      <td>CHEMBL.COMPOUND:CHEMBL4298108</td>\n",
       "      <td>UMLS:C4016036</td>\n",
       "      <td>close_match</td>\n",
       "    </tr>\n",
       "    <tr>\n",
       "      <th>139075</th>\n",
       "      <td>CHEMBL.COMPOUND:CHEMBL1040</td>\n",
       "      <td>MONDO:0020722</td>\n",
       "      <td>contraindicated_for</td>\n",
       "    </tr>\n",
       "    <tr>\n",
       "      <th>139080</th>\n",
       "      <td>CHEMBL.COMPOUND:CHEMBL1200761</td>\n",
       "      <td>UMLS:C1261325</td>\n",
       "      <td>contraindicated_for</td>\n",
       "    </tr>\n",
       "    <tr>\n",
       "      <th>139102</th>\n",
       "      <td>CHEMBL.COMPOUND:CHEMBL1509</td>\n",
       "      <td>UMLS:C0024103</td>\n",
       "      <td>contraindicated_for</td>\n",
       "    </tr>\n",
       "    <tr>\n",
       "      <th>139103</th>\n",
       "      <td>CHEMBL.COMPOUND:CHEMBL1509</td>\n",
       "      <td>UMLS:C0262365</td>\n",
       "      <td>contraindicated_for</td>\n",
       "    </tr>\n",
       "    <tr>\n",
       "      <th>139112</th>\n",
       "      <td>CHEMBL.COMPOUND:CHEMBL1697792</td>\n",
       "      <td>UMLS:C0024103</td>\n",
       "      <td>contraindicated_for</td>\n",
       "    </tr>\n",
       "    <tr>\n",
       "      <th>139170</th>\n",
       "      <td>CHEMBL.COMPOUND:CHEMBL1201258</td>\n",
       "      <td>UMLS:C1623040</td>\n",
       "      <td>contraindicated_for</td>\n",
       "    </tr>\n",
       "    <tr>\n",
       "      <th>139239</th>\n",
       "      <td>CHEMBL.COMPOUND:CHEMBL1200668</td>\n",
       "      <td>MONDO:0020722</td>\n",
       "      <td>contraindicated_for</td>\n",
       "    </tr>\n",
       "    <tr>\n",
       "      <th>139241</th>\n",
       "      <td>CHEMBL.COMPOUND:CHEMBL233406</td>\n",
       "      <td>UMLS:C0150012</td>\n",
       "      <td>contraindicated_for</td>\n",
       "    </tr>\n",
       "    <tr>\n",
       "      <th>139254</th>\n",
       "      <td>CHEMBL.COMPOUND:CHEMBL1200335</td>\n",
       "      <td>UMLS:C3266136</td>\n",
       "      <td>contraindicated_for</td>\n",
       "    </tr>\n",
       "    <tr>\n",
       "      <th>142037</th>\n",
       "      <td>CHEMBL.COMPOUND:CHEMBL4297718</td>\n",
       "      <td>UMLS:C1847383</td>\n",
       "      <td>gene_associated_with_condition</td>\n",
       "    </tr>\n",
       "    <tr>\n",
       "      <th>161904</th>\n",
       "      <td>CHEMBL.COMPOUND:CHEMBL1290003</td>\n",
       "      <td>UMLS:C0027498</td>\n",
       "      <td>prevents</td>\n",
       "    </tr>\n",
       "    <tr>\n",
       "      <th>162063</th>\n",
       "      <td>CHEMBL.COMPOUND:CHEMBL701</td>\n",
       "      <td>MESH:D006606</td>\n",
       "      <td>treats</td>\n",
       "    </tr>\n",
       "    <tr>\n",
       "      <th>162064</th>\n",
       "      <td>MESH:D004364</td>\n",
       "      <td>UMLS:C0562381</td>\n",
       "      <td>causes</td>\n",
       "    </tr>\n",
       "    <tr>\n",
       "      <th>162092</th>\n",
       "      <td>CHEMBL.COMPOUND:CHEMBL3545252</td>\n",
       "      <td>UMLS:C0677874</td>\n",
       "      <td>treats</td>\n",
       "    </tr>\n",
       "    <tr>\n",
       "      <th>162455</th>\n",
       "      <td>CHEMBL.COMPOUND:CHEMBL1200485</td>\n",
       "      <td>MESH:D018450</td>\n",
       "      <td>treats</td>\n",
       "    </tr>\n",
       "    <tr>\n",
       "      <th>162521</th>\n",
       "      <td>CHEMBL.COMPOUND:CHEMBL1235482</td>\n",
       "      <td>UMLS:C0362065</td>\n",
       "      <td>treats</td>\n",
       "    </tr>\n",
       "    <tr>\n",
       "      <th>162588</th>\n",
       "      <td>MESH:D034741</td>\n",
       "      <td>MESH:D000267</td>\n",
       "      <td>prevents</td>\n",
       "    </tr>\n",
       "    <tr>\n",
       "      <th>162836</th>\n",
       "      <td>CHEMBL.COMPOUND:CHEMBL1200402</td>\n",
       "      <td>UMLS:C0857121</td>\n",
       "      <td>treats</td>\n",
       "    </tr>\n",
       "    <tr>\n",
       "      <th>162960</th>\n",
       "      <td>RXNORM:1863268</td>\n",
       "      <td>CHEMBL.TARGET:CHEMBL1697861</td>\n",
       "      <td>causes</td>\n",
       "    </tr>\n",
       "    <tr>\n",
       "      <th>163094</th>\n",
       "      <td>CHEMBL.COMPOUND:CHEMBL1234886</td>\n",
       "      <td>MESH:D018496</td>\n",
       "      <td>treats</td>\n",
       "    </tr>\n",
       "    <tr>\n",
       "      <th>163141</th>\n",
       "      <td>VANDF:4021585</td>\n",
       "      <td>UMLS:C0235195</td>\n",
       "      <td>causes</td>\n",
       "    </tr>\n",
       "    <tr>\n",
       "      <th>163323</th>\n",
       "      <td>CHEMBL.COMPOUND:CHEMBL465</td>\n",
       "      <td>UMLS:C0871189</td>\n",
       "      <td>causes</td>\n",
       "    </tr>\n",
       "    <tr>\n",
       "      <th>163336</th>\n",
       "      <td>CHEMBL.COMPOUND:CHEMBL134</td>\n",
       "      <td>UMLS:C0278134</td>\n",
       "      <td>causes</td>\n",
       "    </tr>\n",
       "    <tr>\n",
       "      <th>163642</th>\n",
       "      <td>UMLS:C0008904</td>\n",
       "      <td>UMLS:C0026004</td>\n",
       "      <td>located_in</td>\n",
       "    </tr>\n",
       "    <tr>\n",
       "      <th>163661</th>\n",
       "      <td>CHEMBL.COMPOUND:CHEMBL2146146</td>\n",
       "      <td>UMLS:C0278134</td>\n",
       "      <td>causes</td>\n",
       "    </tr>\n",
       "    <tr>\n",
       "      <th>163671</th>\n",
       "      <td>CHEMBL.COMPOUND:CHEMBL71</td>\n",
       "      <td>UMLS:C0564408</td>\n",
       "      <td>treats</td>\n",
       "    </tr>\n",
       "    <tr>\n",
       "      <th>164044</th>\n",
       "      <td>CHEMBL.COMPOUND:CHEMBL1788133</td>\n",
       "      <td>UMLS:C0857121</td>\n",
       "      <td>treats</td>\n",
       "    </tr>\n",
       "    <tr>\n",
       "      <th>164224</th>\n",
       "      <td>UMLS:C0014264</td>\n",
       "      <td>UMLS:C1442808</td>\n",
       "      <td>related_to</td>\n",
       "    </tr>\n",
       "    <tr>\n",
       "      <th>164244</th>\n",
       "      <td>CHEMBL.COMPOUND:CHEMBL1200473</td>\n",
       "      <td>MESH:D015878</td>\n",
       "      <td>treats</td>\n",
       "    </tr>\n",
       "    <tr>\n",
       "      <th>164453</th>\n",
       "      <td>RXNORM:49334</td>\n",
       "      <td>UMLS:C0334168</td>\n",
       "      <td>entity_positively_regulates_entity</td>\n",
       "    </tr>\n",
       "    <tr>\n",
       "      <th>164665</th>\n",
       "      <td>CHEBI:22586</td>\n",
       "      <td>UMLS:C0241863</td>\n",
       "      <td>treats</td>\n",
       "    </tr>\n",
       "    <tr>\n",
       "      <th>164858</th>\n",
       "      <td>CHEMBL.COMPOUND:CHEMBL139835</td>\n",
       "      <td>UMLS:C1319927</td>\n",
       "      <td>treats</td>\n",
       "    </tr>\n",
       "    <tr>\n",
       "      <th>165014</th>\n",
       "      <td>CHEMBL.COMPOUND:CHEMBL352705</td>\n",
       "      <td>UMLS:C0677874</td>\n",
       "      <td>treats</td>\n",
       "    </tr>\n",
       "    <tr>\n",
       "      <th>165028</th>\n",
       "      <td>CHEMBL.COMPOUND:CHEMBL1200987</td>\n",
       "      <td>UMLS:C0857121</td>\n",
       "      <td>treats</td>\n",
       "    </tr>\n",
       "  </tbody>\n",
       "</table>\n",
       "</div>"
      ],
      "text/plain": [
       "                              subject                       object  \\\n",
       "1960    CHEMBL.COMPOUND:CHEMBL1200339                 MESH:D011538   \n",
       "1963    CHEMBL.COMPOUND:CHEMBL1201360                UMLS:C0033777   \n",
       "1970     CHEMBL.COMPOUND:CHEMBL470670                UMLS:C0152030   \n",
       "87668     CHEMBL.TARGET:CHEMBL2363058                MONDO:0007462   \n",
       "89244    CHEMBL.COMPOUND:CHEMBL278958                MONDO:0008930   \n",
       "99388                    MESH:D009108                UMLS:C0700172   \n",
       "99415                     CHEBI:37527                UMLS:C0847097   \n",
       "100379                  UMLS:C0008038                MONDO:0008575   \n",
       "100651  CHEMBL.COMPOUND:CHEMBL2108512                UMLS:C0552474   \n",
       "100730                  RXNORM:794207                UMLS:C1608322   \n",
       "102557   CHEMBL.COMPOUND:CHEMBL364797                UMLS:C4016245   \n",
       "102564  CHEMBL.COMPOUND:CHEMBL4298108                UMLS:C4016036   \n",
       "139075     CHEMBL.COMPOUND:CHEMBL1040                MONDO:0020722   \n",
       "139080  CHEMBL.COMPOUND:CHEMBL1200761                UMLS:C1261325   \n",
       "139102     CHEMBL.COMPOUND:CHEMBL1509                UMLS:C0024103   \n",
       "139103     CHEMBL.COMPOUND:CHEMBL1509                UMLS:C0262365   \n",
       "139112  CHEMBL.COMPOUND:CHEMBL1697792                UMLS:C0024103   \n",
       "139170  CHEMBL.COMPOUND:CHEMBL1201258                UMLS:C1623040   \n",
       "139239  CHEMBL.COMPOUND:CHEMBL1200668                MONDO:0020722   \n",
       "139241   CHEMBL.COMPOUND:CHEMBL233406                UMLS:C0150012   \n",
       "139254  CHEMBL.COMPOUND:CHEMBL1200335                UMLS:C3266136   \n",
       "142037  CHEMBL.COMPOUND:CHEMBL4297718                UMLS:C1847383   \n",
       "161904  CHEMBL.COMPOUND:CHEMBL1290003                UMLS:C0027498   \n",
       "162063      CHEMBL.COMPOUND:CHEMBL701                 MESH:D006606   \n",
       "162064                   MESH:D004364                UMLS:C0562381   \n",
       "162092  CHEMBL.COMPOUND:CHEMBL3545252                UMLS:C0677874   \n",
       "162455  CHEMBL.COMPOUND:CHEMBL1200485                 MESH:D018450   \n",
       "162521  CHEMBL.COMPOUND:CHEMBL1235482                UMLS:C0362065   \n",
       "162588                   MESH:D034741                 MESH:D000267   \n",
       "162836  CHEMBL.COMPOUND:CHEMBL1200402                UMLS:C0857121   \n",
       "162960                 RXNORM:1863268  CHEMBL.TARGET:CHEMBL1697861   \n",
       "163094  CHEMBL.COMPOUND:CHEMBL1234886                 MESH:D018496   \n",
       "163141                  VANDF:4021585                UMLS:C0235195   \n",
       "163323      CHEMBL.COMPOUND:CHEMBL465                UMLS:C0871189   \n",
       "163336      CHEMBL.COMPOUND:CHEMBL134                UMLS:C0278134   \n",
       "163642                  UMLS:C0008904                UMLS:C0026004   \n",
       "163661  CHEMBL.COMPOUND:CHEMBL2146146                UMLS:C0278134   \n",
       "163671       CHEMBL.COMPOUND:CHEMBL71                UMLS:C0564408   \n",
       "164044  CHEMBL.COMPOUND:CHEMBL1788133                UMLS:C0857121   \n",
       "164224                  UMLS:C0014264                UMLS:C1442808   \n",
       "164244  CHEMBL.COMPOUND:CHEMBL1200473                 MESH:D015878   \n",
       "164453                   RXNORM:49334                UMLS:C0334168   \n",
       "164665                    CHEBI:22586                UMLS:C0241863   \n",
       "164858   CHEMBL.COMPOUND:CHEMBL139835                UMLS:C1319927   \n",
       "165014   CHEMBL.COMPOUND:CHEMBL352705                UMLS:C0677874   \n",
       "165028  CHEMBL.COMPOUND:CHEMBL1200987                UMLS:C0857121   \n",
       "\n",
       "                                 predicate  \n",
       "1960                                treats  \n",
       "1963                                treats  \n",
       "1970                                treats  \n",
       "87668                           related_to  \n",
       "89244                           related_to  \n",
       "99388                           related_to  \n",
       "99415                           related_to  \n",
       "100379                          related_to  \n",
       "100651                          related_to  \n",
       "100730                              treats  \n",
       "102557                         close_match  \n",
       "102564                         close_match  \n",
       "139075                 contraindicated_for  \n",
       "139080                 contraindicated_for  \n",
       "139102                 contraindicated_for  \n",
       "139103                 contraindicated_for  \n",
       "139112                 contraindicated_for  \n",
       "139170                 contraindicated_for  \n",
       "139239                 contraindicated_for  \n",
       "139241                 contraindicated_for  \n",
       "139254                 contraindicated_for  \n",
       "142037      gene_associated_with_condition  \n",
       "161904                            prevents  \n",
       "162063                              treats  \n",
       "162064                              causes  \n",
       "162092                              treats  \n",
       "162455                              treats  \n",
       "162521                              treats  \n",
       "162588                            prevents  \n",
       "162836                              treats  \n",
       "162960                              causes  \n",
       "163094                              treats  \n",
       "163141                              causes  \n",
       "163323                              causes  \n",
       "163336                              causes  \n",
       "163642                          located_in  \n",
       "163661                              causes  \n",
       "163671                              treats  \n",
       "164044                              treats  \n",
       "164224                          related_to  \n",
       "164244                              treats  \n",
       "164453  entity_positively_regulates_entity  \n",
       "164665                              treats  \n",
       "164858                              treats  \n",
       "165014                              treats  \n",
       "165028                              treats  "
      ]
     },
     "execution_count": 140,
     "metadata": {},
     "output_type": "execute_result"
    }
   ],
   "source": [
    "drug_disease_edges"
   ]
  },
  {
   "cell_type": "code",
   "execution_count": 197,
   "metadata": {},
   "outputs": [
    {
     "data": {
      "text/plain": [
       "46"
      ]
     },
     "execution_count": 197,
     "metadata": {},
     "output_type": "execute_result"
    }
   ],
   "source": [
    "len(drug_disease_edges)"
   ]
  },
  {
   "cell_type": "code",
   "execution_count": 200,
   "metadata": {},
   "outputs": [
    {
     "data": {
      "text/plain": [
       "{'causes',\n",
       " 'close_match',\n",
       " 'contraindicated_for',\n",
       " 'entity_positively_regulates_entity',\n",
       " 'gene_associated_with_condition',\n",
       " 'located_in',\n",
       " 'prevents',\n",
       " 'related_to',\n",
       " 'treats'}"
      ]
     },
     "execution_count": 200,
     "metadata": {},
     "output_type": "execute_result"
    }
   ],
   "source": [
    "drug_disease_edge_types = set(drug_disease_edges['predicate'])\n",
    "drug_disease_edge_types"
   ]
  },
  {
   "cell_type": "markdown",
   "metadata": {},
   "source": [
    " It appears that the only edge types which we really want between drug and disease are the \"prevents\" and the \"treats\" edges."
   ]
  },
  {
   "cell_type": "code",
   "execution_count": 141,
   "metadata": {},
   "outputs": [
    {
     "data": {
      "text/html": [
       "<div>\n",
       "<style scoped>\n",
       "    .dataframe tbody tr th:only-of-type {\n",
       "        vertical-align: middle;\n",
       "    }\n",
       "\n",
       "    .dataframe tbody tr th {\n",
       "        vertical-align: top;\n",
       "    }\n",
       "\n",
       "    .dataframe thead th {\n",
       "        text-align: right;\n",
       "    }\n",
       "</style>\n",
       "<table border=\"1\" class=\"dataframe\">\n",
       "  <thead>\n",
       "    <tr style=\"text-align: right;\">\n",
       "      <th></th>\n",
       "      <th>subject</th>\n",
       "      <th>object</th>\n",
       "      <th>predicate</th>\n",
       "    </tr>\n",
       "  </thead>\n",
       "  <tbody>\n",
       "    <tr>\n",
       "      <th>98813</th>\n",
       "      <td>UMLS:C0740721</td>\n",
       "      <td>MESH:D004364</td>\n",
       "      <td>related_to</td>\n",
       "    </tr>\n",
       "    <tr>\n",
       "      <th>99562</th>\n",
       "      <td>UMLS:C0728856</td>\n",
       "      <td>UMLS:C0374116</td>\n",
       "      <td>related_to</td>\n",
       "    </tr>\n",
       "    <tr>\n",
       "      <th>117879</th>\n",
       "      <td>UMLS:C3898609</td>\n",
       "      <td>CHEBI:47867</td>\n",
       "      <td>subclass_of</td>\n",
       "    </tr>\n",
       "  </tbody>\n",
       "</table>\n",
       "</div>"
      ],
      "text/plain": [
       "              subject         object    predicate\n",
       "98813   UMLS:C0740721   MESH:D004364   related_to\n",
       "99562   UMLS:C0728856  UMLS:C0374116   related_to\n",
       "117879  UMLS:C3898609    CHEBI:47867  subclass_of"
      ]
     },
     "execution_count": 141,
     "metadata": {},
     "output_type": "execute_result"
    }
   ],
   "source": [
    "drug_disease_edges_rev"
   ]
  },
  {
   "cell_type": "code",
   "execution_count": 198,
   "metadata": {},
   "outputs": [
    {
     "data": {
      "text/plain": [
       "3"
      ]
     },
     "execution_count": 198,
     "metadata": {},
     "output_type": "execute_result"
    }
   ],
   "source": [
    "len(drug_disease_edges_rev)"
   ]
  },
  {
   "cell_type": "markdown",
   "metadata": {},
   "source": [
    "## Topological Embeddings"
   ]
  },
  {
   "cell_type": "code",
   "execution_count": 142,
   "metadata": {},
   "outputs": [
    {
     "data": {
      "text/html": [
       "<div>\n",
       "<style scoped>\n",
       "    .dataframe tbody tr th:only-of-type {\n",
       "        vertical-align: middle;\n",
       "    }\n",
       "\n",
       "    .dataframe tbody tr th {\n",
       "        vertical-align: top;\n",
       "    }\n",
       "\n",
       "    .dataframe thead th {\n",
       "        text-align: right;\n",
       "    }\n",
       "</style>\n",
       "<table border=\"1\" class=\"dataframe\">\n",
       "  <thead>\n",
       "    <tr style=\"text-align: right;\">\n",
       "      <th></th>\n",
       "      <th>Unnamed: 0</th>\n",
       "      <th>id</th>\n",
       "      <th>name</th>\n",
       "      <th>category</th>\n",
       "      <th>all_names</th>\n",
       "      <th>all_categories</th>\n",
       "      <th>iri</th>\n",
       "      <th>description</th>\n",
       "      <th>equivalent_curies</th>\n",
       "      <th>publications</th>\n",
       "      <th>label</th>\n",
       "      <th>topological_embedding</th>\n",
       "    </tr>\n",
       "  </thead>\n",
       "  <tbody>\n",
       "    <tr>\n",
       "      <th>0</th>\n",
       "      <td>0</td>\n",
       "      <td>UniProtKB:P53805</td>\n",
       "      <td>RCAN1</td>\n",
       "      <td>biolink:Protein</td>\n",
       "      <td>RCAN1 GeneǂGenetic locus associated with RCAN1...</td>\n",
       "      <td>biolink:NucleicAcidEntityǂbiolink:Geneǂbiolink...</td>\n",
       "      <td>https://identifiers.org/uniprot:P53805</td>\n",
       "      <td>Calcipressin-1 (252 aa, ~28 kDa) is encoded by...</td>\n",
       "      <td>HGNC:3040ǂRGD:631338ǂNCIT:C82947ǂENSEMBL:ENSG0...</td>\n",
       "      <td>DOI:10.1042/bj20030267ǂPMID:12809556ǂDOI:10.10...</td>\n",
       "      <td>biolink:NucleicAcidEntityǂbiolink:MolecularEnt...</td>\n",
       "      <td>[-0.09720507 -0.02366368 -0.01756126 -0.096430...</td>\n",
       "    </tr>\n",
       "    <tr>\n",
       "      <th>1</th>\n",
       "      <td>1</td>\n",
       "      <td>UniProtKB:Q4KWH8</td>\n",
       "      <td>PLCH1</td>\n",
       "      <td>biolink:Protein</td>\n",
       "      <td>1-phosphatidylinositol 4,5-bisphosphate phosph...</td>\n",
       "      <td>biolink:NucleicAcidEntityǂbiolink:Geneǂbiolink...</td>\n",
       "      <td>https://identifiers.org/uniprot:Q4KWH8</td>\n",
       "      <td>A protein that is a translation product of the...</td>\n",
       "      <td>NCBIGene:23007ǂMGI:2683547ǂPR:000012838ǂUMLS:C...</td>\n",
       "      <td>DOI:10.1042/bj20041677ǂDOI:10.1186/1471-2164-8...</td>\n",
       "      <td>biolink:NucleicAcidEntityǂbiolink:MolecularEnt...</td>\n",
       "      <td>[ 0.05282909  0.16689758  0.17749593  0.028352...</td>\n",
       "    </tr>\n",
       "    <tr>\n",
       "      <th>2</th>\n",
       "      <td>2</td>\n",
       "      <td>UniProtKB:Q9UPU7</td>\n",
       "      <td>TBC1D2B</td>\n",
       "      <td>biolink:Protein</td>\n",
       "      <td>TBC1D2B (human)ǂGenetic locus associated with ...</td>\n",
       "      <td>biolink:NucleicAcidEntityǂbiolink:Geneǂbiolink...</td>\n",
       "      <td>https://identifiers.org/uniprot:Q9UPU7</td>\n",
       "      <td>A protein that is a translation product of the...</td>\n",
       "      <td>PR:Q9UPU7ǂENSEMBL:ENSG00000167202ǂMGI:1914266ǂ...</td>\n",
       "      <td>DOI:10.1126/scisignal.2000475ǂPMID:19690332ǂDO...</td>\n",
       "      <td>biolink:NucleicAcidEntityǂbiolink:MolecularEnt...</td>\n",
       "      <td>[-1.98048055e-02  3.08241490e-02 -1.16399840e-...</td>\n",
       "    </tr>\n",
       "    <tr>\n",
       "      <th>3</th>\n",
       "      <td>3</td>\n",
       "      <td>UniProtKB:P35462</td>\n",
       "      <td>DRD3</td>\n",
       "      <td>biolink:Protein</td>\n",
       "      <td>D(3) dopamine receptor (human)ǂDrd3 (rat)ǂD(3)...</td>\n",
       "      <td>biolink:NucleicAcidEntityǂbiolink:Geneǂbiolink...</td>\n",
       "      <td>https://identifiers.org/uniprot:P35462</td>\n",
       "      <td>A D(2)-like dopamine receptor that is a transl...</td>\n",
       "      <td>OMIM:126451ǂRGD:2521ǂMGI:94925ǂNCBIGene:1814ǂU...</td>\n",
       "      <td>PMID:16809426ǂPMID:16386234ǂPMID:7961889ǂ2-nǂ2...</td>\n",
       "      <td>biolink:NucleicAcidEntityǂbiolink:MolecularEnt...</td>\n",
       "      <td>[-0.16700847  0.00287975 -0.02125628 -0.196755...</td>\n",
       "    </tr>\n",
       "    <tr>\n",
       "      <th>4</th>\n",
       "      <td>4</td>\n",
       "      <td>UniProtKB:Q9UJY1</td>\n",
       "      <td>HSPB8</td>\n",
       "      <td>biolink:Protein</td>\n",
       "      <td>HSPB8ǂheat shock protein beta-8 (human)ǂHeat S...</td>\n",
       "      <td>biolink:NucleicAcidEntityǂbiolink:Geneǂbiolink...</td>\n",
       "      <td>https://identifiers.org/uniprot:Q9UJY1</td>\n",
       "      <td>Heat shock protein beta-8 (196 aa, ~22 kDa) is...</td>\n",
       "      <td>NCBIGene:26353ǂNCIT:C95433ǂUniProtKB:Q9UJY1ǂPR...</td>\n",
       "      <td>PMID:15122253ǂDOI:10.1016/j.bbamcr.2009.05.005...</td>\n",
       "      <td>biolink:NucleicAcidEntityǂbiolink:MolecularEnt...</td>\n",
       "      <td>[-2.49186769e-01 -2.17781356e-03 -1.74910173e-...</td>\n",
       "    </tr>\n",
       "  </tbody>\n",
       "</table>\n",
       "</div>"
      ],
      "text/plain": [
       "   Unnamed: 0                id     name         category  \\\n",
       "0           0  UniProtKB:P53805    RCAN1  biolink:Protein   \n",
       "1           1  UniProtKB:Q4KWH8    PLCH1  biolink:Protein   \n",
       "2           2  UniProtKB:Q9UPU7  TBC1D2B  biolink:Protein   \n",
       "3           3  UniProtKB:P35462     DRD3  biolink:Protein   \n",
       "4           4  UniProtKB:Q9UJY1    HSPB8  biolink:Protein   \n",
       "\n",
       "                                           all_names  \\\n",
       "0  RCAN1 GeneǂGenetic locus associated with RCAN1...   \n",
       "1  1-phosphatidylinositol 4,5-bisphosphate phosph...   \n",
       "2  TBC1D2B (human)ǂGenetic locus associated with ...   \n",
       "3  D(3) dopamine receptor (human)ǂDrd3 (rat)ǂD(3)...   \n",
       "4  HSPB8ǂheat shock protein beta-8 (human)ǂHeat S...   \n",
       "\n",
       "                                      all_categories  \\\n",
       "0  biolink:NucleicAcidEntityǂbiolink:Geneǂbiolink...   \n",
       "1  biolink:NucleicAcidEntityǂbiolink:Geneǂbiolink...   \n",
       "2  biolink:NucleicAcidEntityǂbiolink:Geneǂbiolink...   \n",
       "3  biolink:NucleicAcidEntityǂbiolink:Geneǂbiolink...   \n",
       "4  biolink:NucleicAcidEntityǂbiolink:Geneǂbiolink...   \n",
       "\n",
       "                                      iri  \\\n",
       "0  https://identifiers.org/uniprot:P53805   \n",
       "1  https://identifiers.org/uniprot:Q4KWH8   \n",
       "2  https://identifiers.org/uniprot:Q9UPU7   \n",
       "3  https://identifiers.org/uniprot:P35462   \n",
       "4  https://identifiers.org/uniprot:Q9UJY1   \n",
       "\n",
       "                                         description  \\\n",
       "0  Calcipressin-1 (252 aa, ~28 kDa) is encoded by...   \n",
       "1  A protein that is a translation product of the...   \n",
       "2  A protein that is a translation product of the...   \n",
       "3  A D(2)-like dopamine receptor that is a transl...   \n",
       "4  Heat shock protein beta-8 (196 aa, ~22 kDa) is...   \n",
       "\n",
       "                                   equivalent_curies  \\\n",
       "0  HGNC:3040ǂRGD:631338ǂNCIT:C82947ǂENSEMBL:ENSG0...   \n",
       "1  NCBIGene:23007ǂMGI:2683547ǂPR:000012838ǂUMLS:C...   \n",
       "2  PR:Q9UPU7ǂENSEMBL:ENSG00000167202ǂMGI:1914266ǂ...   \n",
       "3  OMIM:126451ǂRGD:2521ǂMGI:94925ǂNCBIGene:1814ǂU...   \n",
       "4  NCBIGene:26353ǂNCIT:C95433ǂUniProtKB:Q9UJY1ǂPR...   \n",
       "\n",
       "                                        publications  \\\n",
       "0  DOI:10.1042/bj20030267ǂPMID:12809556ǂDOI:10.10...   \n",
       "1  DOI:10.1042/bj20041677ǂDOI:10.1186/1471-2164-8...   \n",
       "2  DOI:10.1126/scisignal.2000475ǂPMID:19690332ǂDO...   \n",
       "3  PMID:16809426ǂPMID:16386234ǂPMID:7961889ǂ2-nǂ2...   \n",
       "4  PMID:15122253ǂDOI:10.1016/j.bbamcr.2009.05.005...   \n",
       "\n",
       "                                               label  \\\n",
       "0  biolink:NucleicAcidEntityǂbiolink:MolecularEnt...   \n",
       "1  biolink:NucleicAcidEntityǂbiolink:MolecularEnt...   \n",
       "2  biolink:NucleicAcidEntityǂbiolink:MolecularEnt...   \n",
       "3  biolink:NucleicAcidEntityǂbiolink:MolecularEnt...   \n",
       "4  biolink:NucleicAcidEntityǂbiolink:MolecularEnt...   \n",
       "\n",
       "                               topological_embedding  \n",
       "0  [-0.09720507 -0.02366368 -0.01756126 -0.096430...  \n",
       "1  [ 0.05282909  0.16689758  0.17749593  0.028352...  \n",
       "2  [-1.98048055e-02  3.08241490e-02 -1.16399840e-...  \n",
       "3  [-0.16700847  0.00287975 -0.02125628 -0.196755...  \n",
       "4  [-2.49186769e-01 -2.17781356e-03 -1.74910173e-...  "
      ]
     },
     "execution_count": 142,
     "metadata": {},
     "output_type": "execute_result"
    }
   ],
   "source": [
    "#we will also have a look at the provided embeddings as we could use them for a simple model.\n",
    "embeddings = pd.read_csv(\"Embeddings.csv\")\n",
    "embeddings.head()"
   ]
  },
  {
   "cell_type": "code",
   "execution_count": 143,
   "metadata": {},
   "outputs": [
    {
     "data": {
      "text/plain": [
       "'[-0.09720507 -0.02366368 -0.01756126 -0.09643095  0.04937942  0.06188626\\n -0.02199607  0.07389036 -0.15640208 -0.01835484  0.14166848 -0.10678021\\n -0.01216231  0.07947011 -0.03612143  0.02637139  0.03522846  0.009582\\n -0.00092936  0.08993009  0.0519274   0.01399449  0.08821951  0.0183919\\n  0.05280334 -0.00295148 -0.06647169 -0.19971453  0.13915363 -0.14245994\\n -0.07439503  0.1667266  -0.1421921  -0.15488857  0.00087389 -0.15422538\\n -0.08414526 -0.12991254 -0.01001676 -0.09319881 -0.0942786   0.00866982\\n -0.04049063 -0.01836587  0.04634616  0.12996881  0.11693358 -0.04371183\\n -0.12564185 -0.18583447  0.0869606   0.03199255  0.12939955 -0.07526549\\n -0.04485259 -0.21899481 -0.09142101  0.0876801  -0.09712336 -0.07027259\\n -0.02523985  0.2187793  -0.03997595  0.04494499 -0.03040079 -0.12386096\\n  0.14075029  0.14062774 -0.05827978 -0.03617474 -0.03188511 -0.05674523\\n  0.03880956  0.12541075 -0.04664381  0.02159499 -0.03783251  0.10582332\\n  0.00439113  0.08545046 -0.12270842 -0.02472933  0.04761253 -0.0157365\\n -0.05300403 -0.25514621 -0.10168005  0.16887808 -0.01015092 -0.05595489\\n -0.06939112 -0.06101844  0.03556485 -0.05436449 -0.12636542 -0.08902483\\n  0.15359652  0.09598748 -0.10245846 -0.19790353  0.02888051  0.03803341\\n -0.10925381 -0.08856427 -0.01728052  0.07541175  0.16516398 -0.11726903\\n  0.04535842  0.04016815 -0.18795285  0.09563822 -0.03714886  0.09651457\\n -0.00600055 -0.21817113 -0.11892039 -0.09324234  0.04110275 -0.03658033\\n  0.04449463 -0.03485721  0.06515704 -0.08872522  0.14042684  0.2177356\\n  0.12247521 -0.02139149]'"
      ]
     },
     "execution_count": 143,
     "metadata": {},
     "output_type": "execute_result"
    }
   ],
   "source": [
    "embeddings.topological_embedding.iloc[0]"
   ]
  },
  {
   "cell_type": "markdown",
   "metadata": {},
   "source": [
    "## Ground truth"
   ]
  },
  {
   "cell_type": "code",
   "execution_count": 365,
   "metadata": {},
   "outputs": [
    {
     "data": {
      "text/html": [
       "<div>\n",
       "<style scoped>\n",
       "    .dataframe tbody tr th:only-of-type {\n",
       "        vertical-align: middle;\n",
       "    }\n",
       "\n",
       "    .dataframe tbody tr th {\n",
       "        vertical-align: top;\n",
       "    }\n",
       "\n",
       "    .dataframe thead th {\n",
       "        text-align: right;\n",
       "    }\n",
       "</style>\n",
       "<table border=\"1\" class=\"dataframe\">\n",
       "  <thead>\n",
       "    <tr style=\"text-align: right;\">\n",
       "      <th></th>\n",
       "      <th>Unnamed: 0</th>\n",
       "      <th>source</th>\n",
       "      <th>target</th>\n",
       "      <th>y</th>\n",
       "    </tr>\n",
       "  </thead>\n",
       "  <tbody>\n",
       "    <tr>\n",
       "      <th>0</th>\n",
       "      <td>0</td>\n",
       "      <td>CHEMBL.COMPOUND:CHEMBL30</td>\n",
       "      <td>MONDO:0007186</td>\n",
       "      <td>1</td>\n",
       "    </tr>\n",
       "    <tr>\n",
       "      <th>1</th>\n",
       "      <td>1</td>\n",
       "      <td>CHEMBL.COMPOUND:CHEMBL3707202</td>\n",
       "      <td>MONDO:0007186</td>\n",
       "      <td>1</td>\n",
       "    </tr>\n",
       "    <tr>\n",
       "      <th>2</th>\n",
       "      <td>2</td>\n",
       "      <td>CHEMBL.COMPOUND:CHEMBL1502</td>\n",
       "      <td>MONDO:0007186</td>\n",
       "      <td>1</td>\n",
       "    </tr>\n",
       "    <tr>\n",
       "      <th>3</th>\n",
       "      <td>3</td>\n",
       "      <td>CHEMBL.COMPOUND:CHEMBL480</td>\n",
       "      <td>MONDO:0007186</td>\n",
       "      <td>1</td>\n",
       "    </tr>\n",
       "    <tr>\n",
       "      <th>4</th>\n",
       "      <td>4</td>\n",
       "      <td>CHEMBL.COMPOUND:CHEMBL3833310</td>\n",
       "      <td>MONDO:0007186</td>\n",
       "      <td>1</td>\n",
       "    </tr>\n",
       "  </tbody>\n",
       "</table>\n",
       "</div>"
      ],
      "text/plain": [
       "   Unnamed: 0                         source         target  y\n",
       "0           0       CHEMBL.COMPOUND:CHEMBL30  MONDO:0007186  1\n",
       "1           1  CHEMBL.COMPOUND:CHEMBL3707202  MONDO:0007186  1\n",
       "2           2     CHEMBL.COMPOUND:CHEMBL1502  MONDO:0007186  1\n",
       "3           3      CHEMBL.COMPOUND:CHEMBL480  MONDO:0007186  1\n",
       "4           4  CHEMBL.COMPOUND:CHEMBL3833310  MONDO:0007186  1"
      ]
     },
     "execution_count": 365,
     "metadata": {},
     "output_type": "execute_result"
    }
   ],
   "source": [
    "#we also have a look at the ground truth\n",
    "ground_truth_data = pd.read_csv(\"Ground_Truth.csv\")\n",
    "ground_truth_data.head()"
   ]
  },
  {
   "cell_type": "code",
   "execution_count": 366,
   "metadata": {},
   "outputs": [
    {
     "data": {
      "text/plain": [
       "y\n",
       "0    16811\n",
       "1    11557\n",
       "Name: count, dtype: int64"
      ]
     },
     "execution_count": 366,
     "metadata": {},
     "output_type": "execute_result"
    }
   ],
   "source": [
    "#lets look at outcome values:\n",
    "ground_truth_data.y.value_counts()"
   ]
  },
  {
   "cell_type": "markdown",
   "metadata": {},
   "source": [
    "We can see that the ground truth represents sources, which are drugs or chemical compounds, from the CHEMBL database, and targets, which represent diseases from the Mondo database. Our aim is to predict the link between chemical compounds (or drugs) an diseases. This problem could be approached in two ways:\n",
    "\n",
    "1. By using graph models such as GNNs (for which we could generate embeddings of the nodes and train a GNN), I will attempt this using pytorch geometric (it would be useful in this case to generate \"negative edges\" which do not exist for training the model) \n",
    "2. By using a non-graph model, which we could train by generating outcome labels. We could do that by creating negative relations manually, by either using drugs where there is an absence of \"treat\" relationship with a Disease and the drugs where there is a \"contraindicated_for\" relationships. Sadly although tempting, this approach would leave us with a very small dataset.\n",
    "\n",
    "I will start with number 1. "
   ]
  },
  {
   "cell_type": "markdown",
   "metadata": {},
   "source": [
    "# 2-Attempt at a GNN using pytorch geometric"
   ]
  },
  {
   "cell_type": "markdown",
   "metadata": {},
   "source": [
    "## Data prep"
   ]
  },
  {
   "cell_type": "markdown",
   "metadata": {},
   "source": [
    "### Sample datasets"
   ]
  },
  {
   "cell_type": "code",
   "execution_count": 146,
   "metadata": {},
   "outputs": [],
   "source": [
    "# we will take 10% of the dataset first to make sure everything works locally\n",
    "np.random.seed(331)\n",
    "nodes_sample = nodes.sample(frac = 0.1)\n",
    "edges_sample_1 = nodes_sample.merge(edges, left_on=\"id\", right_on=\"subject\", how='left')\n",
    "edges_sample_1 = edges_sample_1.drop(columns=['id', 'all_names', 'all_categories', 'description'])\n",
    "edges_sample = nodes_sample.merge(edges_sample_1, left_on='id', right_on='object', how=\"left\")\n",
    "edges_sample = edges_sample.drop(columns=['id', 'all_names', 'all_categories', 'description'])"
   ]
  },
  {
   "cell_type": "code",
   "execution_count": 147,
   "metadata": {},
   "outputs": [],
   "source": [
    "#drop NAs\n",
    "edges_sample = edges_sample.dropna()"
   ]
  },
  {
   "cell_type": "code",
   "execution_count": 148,
   "metadata": {},
   "outputs": [
    {
     "data": {
      "text/plain": [
       "1775"
      ]
     },
     "execution_count": 148,
     "metadata": {},
     "output_type": "execute_result"
    }
   ],
   "source": [
    "len(edges_sample)"
   ]
  },
  {
   "cell_type": "markdown",
   "metadata": {},
   "source": [
    "### Transform data "
   ]
  },
  {
   "cell_type": "markdown",
   "metadata": {},
   "source": [
    "#### Get node embeddings"
   ]
  },
  {
   "cell_type": "code",
   "execution_count": 149,
   "metadata": {},
   "outputs": [
    {
     "data": {
      "text/plain": [
       "<torch._C.Generator at 0x7fc23b24dfb0>"
      ]
     },
     "execution_count": 149,
     "metadata": {},
     "output_type": "execute_result"
    }
   ],
   "source": [
    "# Set seed for reproducible results\n",
    "import torch\n",
    "import torch.optim as optim\n",
    "from torch import Tensor\n",
    "from torch_geometric.nn import ComplEx\n",
    "import numpy as np\n",
    "np.random.seed(331)\n",
    "torch.manual_seed(331)"
   ]
  },
  {
   "cell_type": "code",
   "execution_count": 374,
   "metadata": {},
   "outputs": [],
   "source": [
    "#Functions to create pytroch geometric dataset (with Embeddings)\n",
    "from sentence_transformers import SentenceTransformer\n",
    "\n",
    "def load_node_df(df, index_col, encoders=None):\n",
    "    df = df.set_index(index_col)\n",
    "    mapping = {index: i for i, index in enumerate(df.index.unique())}\n",
    "\n",
    "    x = None\n",
    "    if encoders is not None:\n",
    "        xs = [encoder(df[col]) for col, encoder in encoders.items()]\n",
    "        x = torch.cat(xs, dim=-1)\n",
    "\n",
    "    return x, mapping\n",
    "\n",
    "def load_edge_df(df, src_index_col, src_mapping, dst_index_col, dst_mapping,\n",
    "                  encoders=None):\n",
    "\n",
    "    src = [src_mapping[index] for index in df[src_index_col]]\n",
    "    dst = [dst_mapping[index] for index in df[dst_index_col]]\n",
    "    edge_index = torch.tensor([src, dst])\n",
    "\n",
    "    edge_attr = None\n",
    "    if encoders is not None:\n",
    "        edge_attrs = [encoder(df[col]) for col, encoder in encoders.items()]\n",
    "        edge_attr = torch.cat(edge_attrs, dim=-1)\n",
    "\n",
    "    return edge_index, edge_attr\n",
    "\n",
    "class SequenceEncoder:\n",
    "    def __init__(self, model_name='pritamdeka/S-PubMedBert-MS-MARCO', device=None):\n",
    "        self.device = device\n",
    "        self.model = SentenceTransformer(model_name, device=device)\n",
    "\n",
    "    @torch.no_grad()\n",
    "    def __call__(self, df):\n",
    "        x = self.model.encode(df.values, show_progress_bar=True,\n",
    "                              convert_to_tensor=True, device=self.device)\n",
    "        return x.cpu()\n",
    "    \n",
    "class CategoryEncoder:\n",
    "    def __init__(self, sep='ǂ'):\n",
    "        self.sep = sep\n",
    "\n",
    "    def __call__(self, df):\n",
    "        categories = set(g for col in df.values for g in col.split(self.sep))\n",
    "        mapping = {category: i for i, category in enumerate(categories)}\n",
    "\n",
    "        x = torch.zeros(len(df), len(mapping))\n",
    "        for i, col in enumerate(df.values):\n",
    "            for category in col.split(self.sep):\n",
    "                x[i, mapping[category]] = 1\n",
    "        return x\n",
    "    \n",
    "class EdgeTypeEncoder:\n",
    "    def __init__(self, dtype=None):\n",
    "        self.dtype = dtype\n",
    "\n",
    "    def __call__(self, df):\n",
    "        categories = set(df.values)\n",
    "        drug_disease_rel = ['prevents', 'treats']\n",
    "        mapping = {}\n",
    "        for cat in categories:\n",
    "            if cat not in drug_disease_rel:\n",
    "                mapping[cat] = 0\n",
    "            else:\n",
    "                mapping[cat] = 1\n",
    "        x =torch.zeros(len(df))\n",
    "        for i, cat in enumerate(df.values):\n",
    "            x[i]=mapping[cat]\n",
    "        return x.to(self.dtype)\n",
    "    \n",
    "class IdentityEncoder:\n",
    "    def __init__(self, dtype=None):\n",
    "        self.dtype = dtype\n",
    "\n",
    "    def __call__(self, df):\n",
    "        return torch.from_numpy(df.values).view(-1, 1).to(self.dtype)\n",
    "\n"
   ]
  },
  {
   "cell_type": "code",
   "execution_count": 247,
   "metadata": {},
   "outputs": [
    {
     "name": "stderr",
     "output_type": "stream",
     "text": [
      "huggingface/tokenizers: The current process just got forked, after parallelism has already been used. Disabling parallelism to avoid deadlocks...\n",
      "To disable this warning, you can either:\n",
      "\t- Avoid using `tokenizers` before the fork if possible\n",
      "\t- Explicitly set the environment variable TOKENIZERS_PARALLELISM=(true | false)\n",
      "huggingface/tokenizers: The current process just got forked, after parallelism has already been used. Disabling parallelism to avoid deadlocks...\n",
      "To disable this warning, you can either:\n",
      "\t- Avoid using `tokenizers` before the fork if possible\n",
      "\t- Explicitly set the environment variable TOKENIZERS_PARALLELISM=(true | false)\n",
      "Batches: 100%|██████████| 532/532 [00:52<00:00, 10.07it/s]\n",
      "Batches: 100%|██████████| 532/532 [02:38<00:00,  3.37it/s]\n"
     ]
    }
   ],
   "source": [
    "#final representation of nodes:\n",
    "node_x, node_mapping = load_node_df(nodes_sample, index_col=\"id\", encoders={\n",
    "    \"all_names\": SequenceEncoder(),\n",
    "    \"description\": SequenceEncoder(),\n",
    "    \"all_categories\": CategoryEncoder()\n",
    "})"
   ]
  },
  {
   "cell_type": "markdown",
   "metadata": {},
   "source": [
    "#### Transform Edges"
   ]
  },
  {
   "cell_type": "code",
   "execution_count": 250,
   "metadata": {},
   "outputs": [],
   "source": [
    "edge_index, edge_label = load_edge_df(edges_sample, \n",
    "                                      src_index_col=\"subject\",\n",
    "                                      src_mapping=node_mapping,\n",
    "                                      dst_index_col=\"object\",\n",
    "                                      dst_mapping=node_mapping,\n",
    "                                      encoders={\n",
    "                                          \"predicate\": EdgeTypeEncoder(dtype=torch.long), \n",
    "                                        #   \"publications_info\": SequenceEncoder(), # can be included at a later stage.\n",
    "                                      })"
   ]
  },
  {
   "cell_type": "markdown",
   "metadata": {},
   "source": [
    "### Create data object to train the GNN"
   ]
  },
  {
   "cell_type": "code",
   "execution_count": 252,
   "metadata": {},
   "outputs": [
    {
     "name": "stdout",
     "output_type": "stream",
     "text": [
      "HeteroData(\n",
      "  nodes={ x=[17001, 1575] }\n",
      ")\n"
     ]
    }
   ],
   "source": [
    "from torch_geometric.data import Data, HeteroData\n",
    "#we initialise our pseudo Heterogenous data:\n",
    "\n",
    "data = HeteroData()\n",
    "data['nodes'].x = node_x\n",
    "\n",
    "print(data)\n",
    "\n",
    "#########"
   ]
  },
  {
   "cell_type": "code",
   "execution_count": 253,
   "metadata": {},
   "outputs": [],
   "source": [
    "#we add the number of nodes\n",
    "data['nodes'].num_nodes = len(node_mapping)"
   ]
  },
  {
   "cell_type": "code",
   "execution_count": 254,
   "metadata": {},
   "outputs": [
    {
     "name": "stdout",
     "output_type": "stream",
     "text": [
      "HeteroData(\n",
      "  nodes={\n",
      "    x=[17001, 1575],\n",
      "    num_nodes=17001,\n",
      "  },\n",
      "  (nodes, predicates, nodes)={\n",
      "    edge_index=[2, 1775],\n",
      "    edge_label=[1775],\n",
      "  }\n",
      ")\n"
     ]
    }
   ],
   "source": [
    "#we add the edge index and label\n",
    "data['nodes', 'predicates', 'nodes'].edge_index = edge_index\n",
    "data['nodes', 'predicates', 'nodes'].edge_label = edge_label\n",
    "\n",
    "print(data)"
   ]
  },
  {
   "cell_type": "code",
   "execution_count": 256,
   "metadata": {},
   "outputs": [],
   "source": [
    "assert data[\"nodes\", \"predicates\", \"nodes\"].edge_label.min() == 0\n",
    "assert data[\"nodes\", \"predicates\", \"nodes\"].edge_label.max() == 1"
   ]
  },
  {
   "cell_type": "code",
   "execution_count": 257,
   "metadata": {},
   "outputs": [
    {
     "data": {
      "text/plain": [
       "torch.int64"
      ]
     },
     "execution_count": 257,
     "metadata": {},
     "output_type": "execute_result"
    }
   ],
   "source": [
    "# we check the edge_label type\n",
    "edge_label.dtype"
   ]
  },
  {
   "cell_type": "code",
   "execution_count": 258,
   "metadata": {},
   "outputs": [
    {
     "data": {
      "text/plain": [
       "torch.Size([2, 1775])"
      ]
     },
     "execution_count": 258,
     "metadata": {},
     "output_type": "execute_result"
    }
   ],
   "source": [
    "(data['nodes',\n",
    "  'predicates',\n",
    "  'nodes'].edge_index.size())\n"
   ]
  },
  {
   "cell_type": "code",
   "execution_count": 259,
   "metadata": {},
   "outputs": [
    {
     "data": {
      "text/plain": [
       "torch.Size([1775])"
      ]
     },
     "execution_count": 259,
     "metadata": {},
     "output_type": "execute_result"
    }
   ],
   "source": [
    "data['nodes',\n",
    "  'predicates',\n",
    "  'nodes'].edge_label.size()"
   ]
  },
  {
   "cell_type": "code",
   "execution_count": 260,
   "metadata": {},
   "outputs": [
    {
     "name": "stdout",
     "output_type": "stream",
     "text": [
      "Data(edge_index=[2, 1775], x=[17001, 1575], edge_label=[1775], node_type=[17001], edge_type=[1775])\n"
     ]
    }
   ],
   "source": [
    "# We save the data as a pseudo heterogenous data and also a homogenous version:\n",
    "torch.save(data, \"het_graph_data\")\n",
    "\n",
    "homogeneous_data = data.to_homogeneous()\n",
    "torch.save(homogeneous_data, \"homo_graph_data\")\n",
    "print(homogeneous_data)"
   ]
  },
  {
   "cell_type": "code",
   "execution_count": 314,
   "metadata": {},
   "outputs": [],
   "source": [
    "assert homogeneous_data.edge_label.min() == 0\n",
    "assert homogeneous_data.edge_label.max() == 1"
   ]
  },
  {
   "cell_type": "markdown",
   "metadata": {},
   "source": [
    "In the interest of time, I will attempt to use the homogenous version of the data to train the model to see if this yields any interesting results."
   ]
  },
  {
   "cell_type": "markdown",
   "metadata": {},
   "source": [
    "### Data split\n",
    "As we have test data we will only split our edges in train and validation."
   ]
  },
  {
   "cell_type": "code",
   "execution_count": 348,
   "metadata": {},
   "outputs": [
    {
     "name": "stdout",
     "output_type": "stream",
     "text": [
      "tensor(1)\n",
      "tensor(1)\n",
      "tensor(1)\n",
      "tensor(1.)\n",
      "tensor(1.)\n",
      "tensor(1.)\n",
      "Training data:\n",
      "==============\n",
      "Data(edge_index=[2, 871], x=[17001, 1575], node_type=[17001], edge_type=[871], edge_label=[372], edge_label_index=[2, 372])\n",
      "\n",
      "Validation data:\n",
      "================\n",
      "Data(edge_index=[2, 1243], x=[17001, 1575], node_type=[17001], edge_type=[1243], edge_label=[355], edge_label_index=[2, 355])\n"
     ]
    }
   ],
   "source": [
    "import torch_geometric.transforms as T\n",
    "# For this, we first split the set of edges into\n",
    "# training (80%), validation (20%).\n",
    "# Across the training edges, we use 70% of edges for message passing,\n",
    "# and 30% of edges for supervision.\n",
    "# We further want to generate fixed negative edges for evaluation with a ratio of 2:1.\n",
    "# Negative edges during training will be generated on-the-fly.\n",
    "# We can leverage the `RandomLinkSplit()` transform for this:\n",
    "\n",
    "transform = T.RandomLinkSplit(\n",
    "    num_val=0.2,\n",
    "    num_test=0.1,\n",
    "    disjoint_train_ratio=0.3,\n",
    "    neg_sampling_ratio = 0,\n",
    "    add_negative_train_samples=False,\n",
    "    key=\"edge_label\"\n",
    ")\n",
    "\n",
    "train_data, val_data, test_data = transform(homogeneous_data)\n",
    "\n",
    "assert train_data.edge_label.min() == 0\n",
    "print(train_data.edge_label.max())\n",
    "print(test_data.edge_label.max())\n",
    "print(val_data.edge_label.max())\n",
    "# assert train_data.edge_label.max() == 1\n",
    "# assert val_data.edge_label.min() == 0\n",
    "# assert val_data.edge_label.max() == 1\n",
    "# assert test_data.edge_label.min() == 0\n",
    "# assert test_data.edge_label.max() == 1\n",
    "\n",
    "#we now convert the edge_labels to floats\n",
    "train_data.edge_label = train_data.edge_label.float()\n",
    "print(train_data.edge_label.max())\n",
    "test_data.edge_label = test_data.edge_label.float()\n",
    "print(test_data.edge_label.max())\n",
    "val_data.edge_label = val_data.edge_label.float()\n",
    "print(val_data.edge_label.max())\n",
    "\n",
    "\n",
    "\n",
    "print(\"Training data:\")\n",
    "print(\"==============\")\n",
    "print(train_data)\n",
    "print()\n",
    "print(\"Validation data:\")\n",
    "print(\"================\")\n",
    "print(val_data)"
   ]
  },
  {
   "cell_type": "markdown",
   "metadata": {},
   "source": [
    "## Defining mini batch loaders\n",
    "This generates subgraphs for input into the GNN,LinkNeighborhLoader samples multiple hops from both edos of a link and creates a subgraph from it.\n"
   ]
  },
  {
   "cell_type": "code",
   "execution_count": 349,
   "metadata": {},
   "outputs": [],
   "source": [
    "from torch_geometric.loader import LinkNeighborLoader\n",
    "\n",
    "# We use of the `loader.LinkNeighborLoader` \n",
    "\n",
    "# Define seed edges:\n",
    "edge_label_index = train_data.edge_label_index\n",
    "edge_label = train_data.edge_label\n",
    "\n",
    "train_loader = LinkNeighborLoader(\n",
    "    data=train_data,\n",
    "    num_neighbors=[20, 10],# In the first hop, we sample at most 20 neighbors, in the second hop, we sample at most 10 neighbors.\n",
    "    neg_sampling_ratio=2.0,# In addition, during training, we want to sample negative edges on-the-fly with a ratio of 2:1.\n",
    "    edge_label_index=edge_label_index,\n",
    "    edge_label=edge_label,\n",
    "    batch_size=128,\n",
    "    shuffle=True,\n",
    ")\n",
    "\n"
   ]
  },
  {
   "cell_type": "code",
   "execution_count": 350,
   "metadata": {},
   "outputs": [
    {
     "name": "stdout",
     "output_type": "stream",
     "text": [
      "Sampled mini-batch:\n",
      "===================\n",
      "Data(edge_index=[2, 207], x=[899, 1575], node_type=[899], edge_type=[207], edge_label=[384], edge_label_index=[2, 384], n_id=[899], e_id=[207], input_id=[128])\n",
      "Sampled mini-batch:\n",
      "===================\n",
      "Data(edge_index=[2, 207], x=[899, 1575], node_type=[899], edge_type=[207], edge_label=[384], edge_label_index=[2, 384], n_id=[899], e_id=[207], input_id=[128])\n",
      "Edge label index :\n",
      "===================\n",
      "torch.Size([2, 372])\n",
      "Edge label:\n",
      "===================\n",
      "torch.Size([372])\n"
     ]
    }
   ],
   "source": [
    "# Inspect a sample:\n",
    "\n",
    "sampled_data = next(iter(train_loader))\n",
    "\n",
    "print(\"Sampled mini-batch:\")\n",
    "print(\"===================\")\n",
    "print(sampled_data)\n",
    "\n",
    "print(\"Sampled mini-batch:\")\n",
    "print(\"===================\")\n",
    "print(sampled_data)\n",
    "\n",
    "print(\"Edge label index :\")\n",
    "print(\"===================\")\n",
    "# print(edge_label_index)\n",
    "print(edge_label_index.size())\n",
    "\n",
    "print(\"Edge label:\")\n",
    "print(\"===================\")\n",
    "# print(edge_label)\n",
    "print(edge_label.size())\n",
    "\n",
    "assert sampled_data.edge_label_index.size(1) == 3 * 128"
   ]
  },
  {
   "cell_type": "markdown",
   "metadata": {},
   "source": [
    "## Model"
   ]
  },
  {
   "cell_type": "code",
   "execution_count": 351,
   "metadata": {},
   "outputs": [
    {
     "name": "stdout",
     "output_type": "stream",
     "text": [
      "Model(\n",
      "  (node_lin): Linear(in_features=1575, out_features=64, bias=True)\n",
      "  (gnn): GNN(\n",
      "    (conv1): SAGEConv(64, 64, aggr=mean)\n",
      "    (conv2): SAGEConv(64, 64, aggr=mean)\n",
      "  )\n",
      "  (classifier): Classifier()\n",
      ")\n"
     ]
    }
   ],
   "source": [
    "from torch_geometric.nn import SAGEConv, to_hetero\n",
    "from torch import Tensor\n",
    "import torch.nn.functional as F\n",
    "\n",
    "class GNN(torch.nn.Module):\n",
    "    def __init__(self, hidden_channels):\n",
    "        super().__init__()\n",
    "\n",
    "        self.conv1 = SAGEConv(hidden_channels, hidden_channels)\n",
    "        self.conv2 = SAGEConv(hidden_channels, hidden_channels)\n",
    "    \n",
    "    def forward(self, x: Tensor, edge_index:Tensor) -> Tensor:\n",
    "        x = F.relu(self.conv1(x, edge_index))\n",
    "        x = self.conv2(x, edge_index)\n",
    "        return x\n",
    "    \n",
    "class Classifier(torch.nn.Module):\n",
    "    def forward(self, x_node:Tensor, edge_label_index:Tensor) -> Tensor:\n",
    "        #convert node embeddings to edge representations\n",
    "        edge_feat_node1 = x_node[edge_label_index[0]]\n",
    "        edge_feat_node2 = x_node[edge_label_index[1]]\n",
    "        #Apply dot-product to get a prediction per edge:\n",
    "        return (edge_feat_node1 * edge_feat_node2).sum(dim=-1)\n",
    "    \n",
    "class Model(torch.nn.Module):\n",
    "    def __init__(self, hidden_channels):\n",
    "        super().__init__()\n",
    "        self.node_lin = torch.nn.Linear(1575, hidden_channels)#as we have 1575 features\n",
    "\n",
    "\n",
    "        #instantiate homogenous GNN:\n",
    "        self.gnn = GNN(hidden_channels)\n",
    "\n",
    "        #convert to heterogenous variant:\n",
    "        # self.gnn = to_hetero(self.gnn, metadata=data.metadata())\n",
    "\n",
    "        self.classifier = Classifier()\n",
    "\n",
    "    def forward(self, data:Data):\n",
    "\n",
    "        x_dict = self.gnn(self.node_lin(data.x), data.edge_index)\n",
    "        pred = self.classifier(\n",
    "            x_dict,\n",
    "            data.edge_label_index,\n",
    "        )\n",
    "\n",
    "        return pred\n",
    "    \n",
    "\n",
    "model = Model(hidden_channels=64)\n",
    "\n",
    "\n",
    "print(model)\n",
    "\n"
   ]
  },
  {
   "cell_type": "markdown",
   "metadata": {},
   "source": [
    "### Training the model"
   ]
  },
  {
   "cell_type": "code",
   "execution_count": 359,
   "metadata": {},
   "outputs": [
    {
     "name": "stdout",
     "output_type": "stream",
     "text": [
      "Device: 'cpu'\n"
     ]
    },
    {
     "name": "stderr",
     "output_type": "stream",
     "text": [
      "100%|██████████| 3/3 [00:00<00:00, 27.50it/s]\n"
     ]
    },
    {
     "name": "stdout",
     "output_type": "stream",
     "text": [
      "pred size torch.Size([384])\n",
      "pred size torch.Size([384])\n",
      "pred size torch.Size([348])\n",
      "Epoch: 001, Loss: 0.7087\n"
     ]
    },
    {
     "name": "stderr",
     "output_type": "stream",
     "text": [
      "100%|██████████| 3/3 [00:00<00:00, 69.90it/s]\n"
     ]
    },
    {
     "name": "stdout",
     "output_type": "stream",
     "text": [
      "pred size torch.Size([384])\n",
      "pred size torch.Size([384])\n",
      "pred size torch.Size([348])\n",
      "Epoch: 002, Loss: 0.6684\n"
     ]
    },
    {
     "name": "stderr",
     "output_type": "stream",
     "text": [
      "  0%|          | 0/3 [00:00<?, ?it/s]"
     ]
    },
    {
     "name": "stdout",
     "output_type": "stream",
     "text": [
      "pred size torch.Size([384])\n",
      "pred size torch.Size([384])\n",
      "pred size torch.Size([348])\n"
     ]
    },
    {
     "name": "stderr",
     "output_type": "stream",
     "text": [
      "100%|██████████| 3/3 [00:00<00:00, 67.28it/s]\n"
     ]
    },
    {
     "name": "stdout",
     "output_type": "stream",
     "text": [
      "Epoch: 003, Loss: 0.6467\n"
     ]
    },
    {
     "name": "stderr",
     "output_type": "stream",
     "text": [
      "  0%|          | 0/3 [00:00<?, ?it/s]"
     ]
    },
    {
     "name": "stdout",
     "output_type": "stream",
     "text": [
      "pred size torch.Size([384])\n",
      "pred size torch.Size([384])\n"
     ]
    },
    {
     "name": "stderr",
     "output_type": "stream",
     "text": [
      "100%|██████████| 3/3 [00:00<00:00, 70.65it/s]\n"
     ]
    },
    {
     "name": "stdout",
     "output_type": "stream",
     "text": [
      "pred size torch.Size([348])\n",
      "Epoch: 004, Loss: 0.6410\n"
     ]
    },
    {
     "name": "stderr",
     "output_type": "stream",
     "text": [
      "100%|██████████| 3/3 [00:00<00:00, 69.09it/s]\n"
     ]
    },
    {
     "name": "stdout",
     "output_type": "stream",
     "text": [
      "pred size torch.Size([384])\n",
      "pred size torch.Size([384])\n",
      "pred size torch.Size([348])\n",
      "Epoch: 005, Loss: 0.6179\n"
     ]
    },
    {
     "name": "stderr",
     "output_type": "stream",
     "text": [
      "  0%|          | 0/3 [00:00<?, ?it/s]"
     ]
    },
    {
     "name": "stdout",
     "output_type": "stream",
     "text": [
      "pred size torch.Size([384])\n",
      "pred size torch.Size([384])\n"
     ]
    },
    {
     "name": "stderr",
     "output_type": "stream",
     "text": [
      "100%|██████████| 3/3 [00:00<00:00, 61.25it/s]\n"
     ]
    },
    {
     "name": "stdout",
     "output_type": "stream",
     "text": [
      "pred size torch.Size([348])\n",
      "Epoch: 006, Loss: 0.6119\n"
     ]
    },
    {
     "name": "stderr",
     "output_type": "stream",
     "text": [
      "  0%|          | 0/3 [00:00<?, ?it/s]"
     ]
    },
    {
     "name": "stdout",
     "output_type": "stream",
     "text": [
      "pred size torch.Size([384])\n"
     ]
    },
    {
     "name": "stderr",
     "output_type": "stream",
     "text": [
      "100%|██████████| 3/3 [00:00<00:00, 62.61it/s]\n"
     ]
    },
    {
     "name": "stdout",
     "output_type": "stream",
     "text": [
      "pred size torch.Size([384])\n",
      "pred size torch.Size([348])\n",
      "Epoch: 007, Loss: 0.6145\n"
     ]
    },
    {
     "name": "stderr",
     "output_type": "stream",
     "text": [
      "  0%|          | 0/3 [00:00<?, ?it/s]"
     ]
    },
    {
     "name": "stdout",
     "output_type": "stream",
     "text": [
      "pred size torch.Size([384])\n",
      "pred size torch.Size([384])\n"
     ]
    },
    {
     "name": "stderr",
     "output_type": "stream",
     "text": [
      "100%|██████████| 3/3 [00:00<00:00, 85.54it/s]\n"
     ]
    },
    {
     "name": "stdout",
     "output_type": "stream",
     "text": [
      "pred size torch.Size([348])\n",
      "Epoch: 008, Loss: 0.6025\n"
     ]
    },
    {
     "name": "stderr",
     "output_type": "stream",
     "text": [
      "  0%|          | 0/3 [00:00<?, ?it/s]"
     ]
    },
    {
     "name": "stdout",
     "output_type": "stream",
     "text": [
      "pred size torch.Size([384])\n",
      "pred size torch.Size([384])\n"
     ]
    },
    {
     "name": "stderr",
     "output_type": "stream",
     "text": [
      "100%|██████████| 3/3 [00:00<00:00, 67.67it/s]"
     ]
    },
    {
     "name": "stdout",
     "output_type": "stream",
     "text": [
      "pred size torch.Size([348])\n",
      "Epoch: 009, Loss: 0.5823\n"
     ]
    },
    {
     "name": "stderr",
     "output_type": "stream",
     "text": [
      "\n"
     ]
    }
   ],
   "source": [
    "import tqdm\n",
    "import torch.nn.functional as F\n",
    "\n",
    "device = torch.device('cuda' if torch.cuda.is_available() else 'cpu')\n",
    "print(f\"Device: '{device}'\")\n",
    "\n",
    "model = model.to(device)\n",
    "optimizer = torch.optim.Adam(model.parameters(), lr=0.001)\n",
    "\n",
    "for epoch in range(1, 10):\n",
    "    total_loss = total_examples = 0\n",
    "    for sampled_data in tqdm.tqdm(train_loader):\n",
    "        optimizer.zero_grad()\n",
    "        \n",
    "        sampled_data.to(device)\n",
    "        pred = model(sampled_data)\n",
    "        print(f\"pred size {pred.size()}\")\n",
    "        ground_truth = sampled_data.edge_label\n",
    "        loss = F.binary_cross_entropy_with_logits(pred, ground_truth)\n",
    "\n",
    "        loss.backward()\n",
    "        optimizer.step()\n",
    "        total_loss += float(loss) * pred.numel()\n",
    "        total_examples += pred.numel()\n",
    "    print(f\"Epoch: {epoch:03d}, Loss: {total_loss / total_examples:.4f}\")"
   ]
  },
  {
   "cell_type": "markdown",
   "metadata": {},
   "source": [
    "### Model Evaluation"
   ]
  },
  {
   "cell_type": "markdown",
   "metadata": {},
   "source": [
    "##### With the validation set"
   ]
  },
  {
   "cell_type": "code",
   "execution_count": 360,
   "metadata": {},
   "outputs": [],
   "source": [
    "# Define the validation seed edges:\n",
    "edge_label_index = val_data.edge_label_index\n",
    "edge_label = val_data.edge_label\n",
    "\n",
    "val_loader = LinkNeighborLoader(\n",
    "    data=val_data,\n",
    "    num_neighbors=[20, 10],\n",
    "    edge_label_index=edge_label_index,\n",
    "    edge_label=edge_label,\n",
    "    batch_size=3 * 128,\n",
    "    shuffle=False,\n",
    ")\n",
    "\n",
    "sampled_data = next(iter(val_loader))"
   ]
  },
  {
   "cell_type": "code",
   "execution_count": 361,
   "metadata": {},
   "outputs": [],
   "source": [
    "assert sampled_data.edge_label.min() == 0\n",
    "assert sampled_data.edge_label.max() == 1"
   ]
  },
  {
   "cell_type": "code",
   "execution_count": 363,
   "metadata": {},
   "outputs": [
    {
     "name": "stderr",
     "output_type": "stream",
     "text": [
      "100%|██████████| 1/1 [00:00<00:00, 39.25it/s]"
     ]
    },
    {
     "name": "stdout",
     "output_type": "stream",
     "text": [
      "Validation AUC: 0.3051\n"
     ]
    },
    {
     "name": "stderr",
     "output_type": "stream",
     "text": [
      "\n"
     ]
    }
   ],
   "source": [
    "from sklearn.metrics import roc_auc_score\n",
    "\n",
    "preds = []\n",
    "ground_truths = []\n",
    "for sampled_data in tqdm.tqdm(val_loader):\n",
    "    with torch.no_grad():\n",
    "        sampled_data.to(device)\n",
    "        preds.append(model(sampled_data))\n",
    "        ground_truths.append(sampled_data.edge_label)\n",
    "\n",
    "pred = torch.cat(preds, dim=0).cpu().numpy()\n",
    "ground_truth = torch.cat(ground_truths, dim=0).cpu().numpy()\n",
    "auc = roc_auc_score(ground_truth, pred)\n",
    "\n",
    "print(f\"Validation AUC: {auc:.4f}\")"
   ]
  },
  {
   "cell_type": "markdown",
   "metadata": {},
   "source": [
    "As we can see, our model is not very good, likely due to the lack of drug-disease edges. We could try adding a bias correction to resolve this, or undersample the negative edges (where there is no relationship between drug and disease) and it is likely that if we increase the training data we would get a better model too. As time is of essence, I will anyway test this model on the ground truth that was provided. "
   ]
  },
  {
   "cell_type": "markdown",
   "metadata": {},
   "source": [
    "##### With the provided ground truth"
   ]
  },
  {
   "cell_type": "code",
   "execution_count": null,
   "metadata": {},
   "outputs": [
    {
     "data": {
      "text/html": [
       "<div>\n",
       "<style scoped>\n",
       "    .dataframe tbody tr th:only-of-type {\n",
       "        vertical-align: middle;\n",
       "    }\n",
       "\n",
       "    .dataframe tbody tr th {\n",
       "        vertical-align: top;\n",
       "    }\n",
       "\n",
       "    .dataframe thead th {\n",
       "        text-align: right;\n",
       "    }\n",
       "</style>\n",
       "<table border=\"1\" class=\"dataframe\">\n",
       "  <thead>\n",
       "    <tr style=\"text-align: right;\">\n",
       "      <th></th>\n",
       "      <th>Unnamed: 0</th>\n",
       "      <th>source</th>\n",
       "      <th>target</th>\n",
       "      <th>y</th>\n",
       "    </tr>\n",
       "  </thead>\n",
       "  <tbody>\n",
       "    <tr>\n",
       "      <th>0</th>\n",
       "      <td>0</td>\n",
       "      <td>CHEMBL.COMPOUND:CHEMBL30</td>\n",
       "      <td>MONDO:0007186</td>\n",
       "      <td>1</td>\n",
       "    </tr>\n",
       "    <tr>\n",
       "      <th>1</th>\n",
       "      <td>1</td>\n",
       "      <td>CHEMBL.COMPOUND:CHEMBL3707202</td>\n",
       "      <td>MONDO:0007186</td>\n",
       "      <td>1</td>\n",
       "    </tr>\n",
       "    <tr>\n",
       "      <th>2</th>\n",
       "      <td>2</td>\n",
       "      <td>CHEMBL.COMPOUND:CHEMBL1502</td>\n",
       "      <td>MONDO:0007186</td>\n",
       "      <td>1</td>\n",
       "    </tr>\n",
       "    <tr>\n",
       "      <th>3</th>\n",
       "      <td>3</td>\n",
       "      <td>CHEMBL.COMPOUND:CHEMBL480</td>\n",
       "      <td>MONDO:0007186</td>\n",
       "      <td>1</td>\n",
       "    </tr>\n",
       "    <tr>\n",
       "      <th>4</th>\n",
       "      <td>4</td>\n",
       "      <td>CHEMBL.COMPOUND:CHEMBL3833310</td>\n",
       "      <td>MONDO:0007186</td>\n",
       "      <td>1</td>\n",
       "    </tr>\n",
       "  </tbody>\n",
       "</table>\n",
       "</div>"
      ],
      "text/plain": [
       "   Unnamed: 0                         source         target  y\n",
       "0           0       CHEMBL.COMPOUND:CHEMBL30  MONDO:0007186  1\n",
       "1           1  CHEMBL.COMPOUND:CHEMBL3707202  MONDO:0007186  1\n",
       "2           2     CHEMBL.COMPOUND:CHEMBL1502  MONDO:0007186  1\n",
       "3           3      CHEMBL.COMPOUND:CHEMBL480  MONDO:0007186  1\n",
       "4           4  CHEMBL.COMPOUND:CHEMBL3833310  MONDO:0007186  1"
      ]
     },
     "execution_count": 373,
     "metadata": {},
     "output_type": "execute_result"
    }
   ],
   "source": [
    "#convert the data\n",
    "\n",
    "ground_truth_data.head()"
   ]
  },
  {
   "cell_type": "code",
   "execution_count": null,
   "metadata": {},
   "outputs": [],
   "source": [
    "#we first get node indexes for all the nodes\n",
    "node_x, node_mapping = load_node_df(nodes, index_col=\"id\", encoders={\n",
    "    \"all_names\": SequenceEncoder(),\n",
    "    \"description\": SequenceEncoder(),\n",
    "    \"all_categories\": CategoryEncoder()\n",
    "})"
   ]
  },
  {
   "cell_type": "code",
   "execution_count": null,
   "metadata": {},
   "outputs": [],
   "source": [
    "#We then convert the edges\n",
    "edge_index, edge_label = load_edge_df(ground_truth_data, \n",
    "                                      src_index_col=\"subject\",\n",
    "                                      src_mapping=node_mapping,\n",
    "                                      dst_index_col=\"object\",\n",
    "                                      dst_mapping=node_mapping,\n",
    "                                      encoders={\n",
    "                                          \"y\": IdentityEncoder(dtype=torch.long)\n",
    "                                      })\n",
    "\n"
   ]
  },
  {
   "cell_type": "code",
   "execution_count": null,
   "metadata": {},
   "outputs": [],
   "source": [
    "#we make sure the labels are converted to floats\n"
   ]
  },
  {
   "cell_type": "code",
   "execution_count": null,
   "metadata": {},
   "outputs": [],
   "source": [
    "#now we run the model"
   ]
  }
 ],
 "metadata": {
  "kernelspec": {
   "display_name": "pyg_7",
   "language": "python",
   "name": "pyg_7"
  },
  "language_info": {
   "codemirror_mode": {
    "name": "ipython",
    "version": 3
   },
   "file_extension": ".py",
   "mimetype": "text/x-python",
   "name": "python",
   "nbconvert_exporter": "python",
   "pygments_lexer": "ipython3",
   "version": "3.9.5"
  }
 },
 "nbformat": 4,
 "nbformat_minor": 2
}
